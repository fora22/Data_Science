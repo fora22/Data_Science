{
  "nbformat": 4,
  "nbformat_minor": 0,
  "metadata": {
    "colab": {
      "name": "Logistic Regression.ipynb",
      "provenance": [],
      "collapsed_sections": [],
      "authorship_tag": "ABX9TyPTsoYWPrfoJzVkdmSfhN8K",
      "include_colab_link": true
    },
    "kernelspec": {
      "name": "python3",
      "display_name": "Python 3"
    },
    "language_info": {
      "name": "python"
    }
  },
  "cells": [
    {
      "cell_type": "markdown",
      "metadata": {
        "id": "view-in-github",
        "colab_type": "text"
      },
      "source": [
        "<a href=\"https://colab.research.google.com/github/fora22/Data_Science/blob/main/Logistic_Regression.ipynb\" target=\"_parent\"><img src=\"https://colab.research.google.com/assets/colab-badge.svg\" alt=\"Open In Colab\"/></a>"
      ]
    },
    {
      "cell_type": "markdown",
      "metadata": {
        "id": "O7ZATFXLQlZD"
      },
      "source": [
        "# 로지스틱 회귀(Logistic Regression)\n",
        "\n",
        "## 로지스틱 회귀 모델의 확률 추정(벡터 표현식)\n",
        "$\\hat p = h_\\theta(\\mathbf{x}) = \\sigma(\\theta^{T} \\cdot \\mathbf{x})  $\n",
        "\n",
        "## 로지스틱 함수 : 시그모이드 함수(Sigmoid Function)\n",
        "$\\sigma(t) = {1 \\over {1+exp(-t)}}$\n",
        "\n",
        "## 로지스틱 회귀 모델 예측\n",
        "$ \\hat y = \\begin{cases}\n",
        "0 \\quad  when \\ \\ \\hat p < 0.5\\\\\n",
        "1 \\quad when \\ \\ \\hat p \\ge 0.5 \n",
        "\\end{cases} $\n",
        "\n",
        "## 로지스틱 획의 비용 함수(로그 손실)\n",
        "$J(\\theta) = - {1 \\over m} \\sum_{i=1}^{m} [y^{(i)} log(\\hat p^{(i)}) + (1 - y^(i))log(1-\\hat p^{(i)})] $\n",
        "\n",
        "## 로지스틱 비용함수의 편도함수\n",
        "${\\partial \\over \\partial \\theta_j}J(\\theta) = {1 \\over m} \\sum_{i=1}^{m}(\\sigma(\\theta^T \\cdot \\mathbf{x}^{(i)}) - y^{(i)} ) x^{(i)}_j$"
      ]
    },
    {
      "cell_type": "code",
      "metadata": {
        "colab": {
          "base_uri": "https://localhost:8080/"
        },
        "id": "ZA-hN_vMQVh8",
        "outputId": "cf9599b9-6d25-4f47-be1b-d8f2857858f5"
      },
      "source": [
        "# 그래프 한글 폰트 설정\n",
        "!apt-get update -qq\n",
        "!apt-get install fonts-nanum* -qq\n",
        "import matplotlib.font_manager as fm\n",
        "import matplotlib.pyplot as plt\n",
        "path = '/usr/share/fonts/truetype/nanum/NanumBarunGothic.ttf'\n",
        "font_name = fm.FontProperties(fname = path, size = 10).get_name()\n",
        "print(font_name)\n",
        "plt.rc('font', family=font_name)  \n",
        "fm._rebuild()"
      ],
      "execution_count": null,
      "outputs": [
        {
          "output_type": "stream",
          "text": [
            "NanumBarunGothic\n"
          ],
          "name": "stdout"
        }
      ]
    },
    {
      "cell_type": "code",
      "metadata": {
        "id": "FmX63WSzQamF"
      },
      "source": [
        "import numpy as np"
      ],
      "execution_count": null,
      "outputs": []
    },
    {
      "cell_type": "code",
      "metadata": {
        "id": "Y8qcv9M8WGQB"
      },
      "source": [
        "from sklearn import datasets"
      ],
      "execution_count": null,
      "outputs": []
    },
    {
      "cell_type": "code",
      "metadata": {
        "colab": {
          "base_uri": "https://localhost:8080/"
        },
        "id": "UFUG55vaWIrc",
        "outputId": "78d418d2-3d0d-403e-a2c5-a5046c6c68e6"
      },
      "source": [
        "iris = datasets.load_iris()\n",
        "list(iris.keys())"
      ],
      "execution_count": null,
      "outputs": [
        {
          "output_type": "execute_result",
          "data": {
            "text/plain": [
              "['data', 'target', 'target_names', 'DESCR', 'feature_names', 'filename']"
            ]
          },
          "metadata": {
            "tags": []
          },
          "execution_count": 4
        }
      ]
    },
    {
      "cell_type": "code",
      "metadata": {
        "id": "xERy-2JJWN9N"
      },
      "source": [
        "X = iris[\"data\"][:, 3:]   # 꽃잎의 너비\n",
        "y = (iris[\"target\"] == 2).astype(np.int)   # if Iris-Virginica면 1, 그렇지 않으면 0"
      ],
      "execution_count": null,
      "outputs": []
    },
    {
      "cell_type": "code",
      "metadata": {
        "id": "YBcpUPNhWm0t"
      },
      "source": [
        "from sklearn.linear_model import LogisticRegression"
      ],
      "execution_count": null,
      "outputs": []
    },
    {
      "cell_type": "code",
      "metadata": {
        "colab": {
          "base_uri": "https://localhost:8080/"
        },
        "id": "9nvpX0pmWqeg",
        "outputId": "62aefdae-2528-4422-d2e0-886885d8fc03"
      },
      "source": [
        "log_reg = LogisticRegression()\n",
        "log_reg.fit(X,y)"
      ],
      "execution_count": null,
      "outputs": [
        {
          "output_type": "execute_result",
          "data": {
            "text/plain": [
              "LogisticRegression(C=1.0, class_weight=None, dual=False, fit_intercept=True,\n",
              "                   intercept_scaling=1, l1_ratio=None, max_iter=100,\n",
              "                   multi_class='auto', n_jobs=None, penalty='l2',\n",
              "                   random_state=None, solver='lbfgs', tol=0.0001, verbose=0,\n",
              "                   warm_start=False)"
            ]
          },
          "metadata": {
            "tags": []
          },
          "execution_count": 7
        }
      ]
    },
    {
      "cell_type": "code",
      "metadata": {
        "id": "sBuCBL47Wu-r"
      },
      "source": [
        "X_new = np.linspace(0, 3, 1000).reshape(-1, 1)\n",
        "y_proba = log_reg.predict_proba(X_new)"
      ],
      "execution_count": null,
      "outputs": []
    },
    {
      "cell_type": "code",
      "metadata": {
        "colab": {
          "base_uri": "https://localhost:8080/",
          "height": 282
        },
        "id": "k_qFmqobOs5S",
        "outputId": "bbbf01d7-2cb9-46ab-8ac9-e6314b74e7a8"
      },
      "source": [
        "plt.plot(X_new, y_proba[:, 1], 'g-', label = 'Iris-Virginica')\n",
        "plt.plot(X_new, y_proba[:, 0], 'b--', label = \"Iris-Virginica 아님\")\n",
        "plt.legend()"
      ],
      "execution_count": null,
      "outputs": [
        {
          "output_type": "execute_result",
          "data": {
            "text/plain": [
              "<matplotlib.legend.Legend at 0x7fa3251722d0>"
            ]
          },
          "metadata": {
            "tags": []
          },
          "execution_count": 9
        },
        {
          "output_type": "display_data",
          "data": {
            "image/png": "[encoded data removed]",
            "text/plain": [
              "<Figure size 432x288 with 1 Axes>"
            ]
          },
          "metadata": {
            "tags": [],
            "needs_background": "light"
          }
        }
      ]
    },
    {
      "cell_type": "markdown",
      "metadata": {
        "id": "5kCUWAN2Sia0"
      },
      "source": [
        "그래프를 살펴보면 x축에서 약 1.6cm인 지점에 결정 경계(Decision Boundary)가 만들어지는 것을 알 수 있다(x축은 꽃잎 너비, y축은 Iris-Virginica의 확률).\n",
        "\n",
        "따라서 1.5와 1.7을 넣어 예측해보면 1과 0으로 분류되는 것을 알 수 있다."
      ]
    },
    {
      "cell_type": "code",
      "metadata": {
        "colab": {
          "base_uri": "https://localhost:8080/"
        },
        "id": "9P-NQ8-CPAFe",
        "outputId": "00c1fddb-f11d-4495-c6ee-54548ec7c406"
      },
      "source": [
        "log_reg.predict([[1.7], [1.5]])"
      ],
      "execution_count": null,
      "outputs": [
        {
          "output_type": "execute_result",
          "data": {
            "text/plain": [
              "array([1, 0])"
            ]
          },
          "metadata": {
            "tags": []
          },
          "execution_count": 11
        }
      ]
    },
    {
      "cell_type": "markdown",
      "metadata": {
        "id": "Qgiq5jfITYP7"
      },
      "source": [
        "다른 선형 모델처럼 로지스틱 회귀 모델도 $l_1$, $l_2$ 패널티를 사용하여 규제할 수 있다. sklearn은 $l_2$ 패널티를 default로 한다.\n",
        "\n",
        "* LogisticRegression 모델의 규제 강도를 조절하는 하이퍼파라미터는 `alpha`가 아니고 그 역수에 해당하는 `C`이다. `C`가 높을수록 모델의 규제가 줄어든다.\n",
        "* `alpha`는 Polynomial Regression.ipynb에서 찾아볼 수 있다."
      ]
    },
    {
      "cell_type": "markdown",
      "metadata": {
        "id": "eP5OEYElUJoD"
      },
      "source": [
        "# 소프트맥스 회귀(Softmax Regression)\n",
        "\n",
        "로지스틱 회귀 모델은 여러 개의 이진 분류기를 훈련시켜 연결하지 않고 직접 다중 클래스를 분류하도록 지원한다. 이를 소프트맥스 회귀(Softmax Regression) 또는 다항 로지스틱 회귀(Multinomial Logistic Regression)라고 한다.\n",
        "\n",
        "# 소프트맥스 회귀 개념\n",
        "샘플 $x$가 주어지면 먼저 소프트맥스 회귀 모델이 각 클래스 $K$에대하여 점수 $s_k(x)$를 계산하고, 그 점수에 소프트맥스 함수(softmax function 또는 정규화된 지수 함수 : nomalized exponential)를 적용하여 각 클래스의 확률을 추정한다. \n",
        "\n",
        "$s_k(x) = (\\theta^{(k)})^T \\cdot x$\n",
        "\n",
        "각 클래스는 자신만의 파라미터 벡터 $\\theta^{(k)}$가 있는데, 이는 파라미터 행렬(parameter matrix) $\\Theta$에 행으로 저장된다.\n",
        "\n",
        "샘플 $x$에 대해 각 클래스의 점수가 계산되면 소프트맥스 함수를 통과시켜 클래스 $k$에 속할 확률 $\\hat p_k$을 추정할 수 있다. 이 함수는 각 점수에 지수 함수를 적용한 후 정규화 하여 0과 1의 범위로 놓는다.\n",
        "\n",
        "# 소프트맥스 함수\n",
        "$\\hat p_k = \\sigma(s(x))_k = \\frac{exp(s_k(x))}{\\sum_{j=1}^{K} exp(s_j(x))}$\n",
        " * $K$는 클래스 수\n",
        " * $s(x)$는 샘플 $x$에 대한 각 클래스의 점수를 담고 있는 벡터\n",
        " * $\\sigma(s(x))_k$는 샘플 $x$에 대한 각 클래스의 점수가 주어졌을 때 이 샘플이 클래스 $k$에 속할 추정 확률\n",
        "\n",
        "# 소프트맥스 회귀 분류기의 예측\n",
        "$\\hat y = argmax \\sigma(s(x))_k = argmax s_k(x) = argmax  ((\\theta^{(k)})^T \\cdot x)$\n",
        "\n",
        "소프트맥스 회귀 분류기는 한 번에 하나의 클래스만 예측한다(다중 출력이 아님). 그래서 종류가 다른 붓꽃 같이 상호 배타적인 클래스에서만 사용해야 한다. 하나의 사진에서 여러 사람의 얼굴을 인식하는 데는 사용할 수 없다.\n",
        "\n",
        "* 비용 함수는 **크로스 엔트로피(cross entropy)** 함수를 사용했다.\n",
        "* $J(\\Theta) = - \\frac{1}{m} \\sum_{i=1}^{m} \\sum_{k=1}^{K} y^{(i)}_k log(\\hat p^{(i)}_k )  $\n",
        "* $i$번째 샘플에 대한 타깃 클래스가 $k$일 때 $y^{(i)}_k$가 1이고, 그 외에는 0이다.\n",
        "\n",
        "\n",
        "# 예제 코드\n",
        "소프트맥스 회귀를 사용해 붓꽃을 세 개의 클래스로 분류할 수 있다. sklearn의 Logistic Regression은 클래스가 둘 이상일 때 기본적으로 일대다($OvA$) 전략을 사용한다. 하지만 multi_class 매개변수를 \"multinomial\"로 바꾸면 소프트맥스 회귀를 사용할 수 있다. 소프트맥스 회귀를 사용하려면 solver 매개변수에 \"lbfgs\"와 같이 소프트맥스 회귀를 지원하는 알고리즘을 지정해야 한다. 또한 기본적으로 하이퍼파라미터 $C$를 사용하여 조절할 수 있는 $l_2$ 규제가 적용된다."
      ]
    },
    {
      "cell_type": "code",
      "metadata": {
        "id": "FKWnrSRWSRa7"
      },
      "source": [
        "X = iris[\"data\"][:, (2,3)]  # 꽃잎 길이, 꽃잎 너비\n",
        "y = iris['target']"
      ],
      "execution_count": null,
      "outputs": []
    },
    {
      "cell_type": "code",
      "metadata": {
        "colab": {
          "base_uri": "https://localhost:8080/"
        },
        "id": "4ILcORoGbk5g",
        "outputId": "ff1ea57e-e593-4f90-f2bc-22dd7e9098b8"
      },
      "source": [
        "softmax_reg = LogisticRegression(multi_class=\"multinomial\", solver='lbfgs', C=10)\n",
        "softmax_reg.fit(X,y)"
      ],
      "execution_count": null,
      "outputs": [
        {
          "output_type": "execute_result",
          "data": {
            "text/plain": [
              "LogisticRegression(C=10, class_weight=None, dual=False, fit_intercept=True,\n",
              "                   intercept_scaling=1, l1_ratio=None, max_iter=100,\n",
              "                   multi_class='multinomial', n_jobs=None, penalty='l2',\n",
              "                   random_state=None, solver='lbfgs', tol=0.0001, verbose=0,\n",
              "                   warm_start=False)"
            ]
          },
          "metadata": {
            "tags": []
          },
          "execution_count": 15
        }
      ]
    },
    {
      "cell_type": "markdown",
      "metadata": {
        "id": "l3H6SWs7bnF6"
      },
      "source": [
        "꽃잎 길이가 5cm, 너비가 2cm인 붓꽃을 발견했다고 가정하고 학습된 모델에 질의하면 94.2%의 확률로 Iris-Virginica(클래스 2)라고 (또는 5.8% 확률로 Iris-Versicolor)라고 출력할 것이다."
      ]
    },
    {
      "cell_type": "code",
      "metadata": {
        "colab": {
          "base_uri": "https://localhost:8080/"
        },
        "id": "eGmv7GSicGs0",
        "outputId": "26a7fa23-e2bd-4f7a-9e8d-3143cde0b186"
      },
      "source": [
        "softmax_reg.predict([[5,2]])"
      ],
      "execution_count": null,
      "outputs": [
        {
          "output_type": "execute_result",
          "data": {
            "text/plain": [
              "array([2])"
            ]
          },
          "metadata": {
            "tags": []
          },
          "execution_count": 16
        }
      ]
    },
    {
      "cell_type": "code",
      "metadata": {
        "colab": {
          "base_uri": "https://localhost:8080/"
        },
        "id": "SgdwzBAicKml",
        "outputId": "048de7de-063f-4a99-9f5b-392d647b3ca4"
      },
      "source": [
        "softmax_reg.predict_proba([[5,2]])"
      ],
      "execution_count": null,
      "outputs": [
        {
          "output_type": "execute_result",
          "data": {
            "text/plain": [
              "array([[6.38014896e-07, 5.74929995e-02, 9.42506362e-01]])"
            ]
          },
          "metadata": {
            "tags": []
          },
          "execution_count": 17
        }
      ]
    },
    {
      "cell_type": "code",
      "metadata": {
        "id": "WNxfwFkfcOCv"
      },
      "source": [
        ""
      ],
      "execution_count": null,
      "outputs": []
    }
  ]
}