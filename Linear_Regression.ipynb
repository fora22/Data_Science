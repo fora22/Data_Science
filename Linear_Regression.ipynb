{
  "nbformat": 4,
  "nbformat_minor": 0,
  "metadata": {
    "colab": {
      "name": "Linear Regression.ipynb",
      "private_outputs": true,
      "provenance": [],
      "collapsed_sections": [],
      "authorship_tag": "ABX9TyO/9wKLQtn5m0cJFsDxgXeV",
      "include_colab_link": true
    },
    "kernelspec": {
      "name": "python3",
      "display_name": "Python 3"
    },
    "language_info": {
      "name": "python"
    }
  },
  "cells": [
    {
      "cell_type": "markdown",
      "metadata": {
        "id": "view-in-github",
        "colab_type": "text"
      },
      "source": [
        "<a href=\"https://colab.research.google.com/github/fora22/Data_Science/blob/main/Linear_Regression.ipynb\" target=\"_parent\"><img src=\"https://colab.research.google.com/assets/colab-badge.svg\" alt=\"Open In Colab\"/></a>"
      ]
    },
    {
      "cell_type": "code",
      "metadata": {
        "id": "0qEkWfvlASmv"
      },
      "source": [
        "import numpy as np"
      ],
      "execution_count": null,
      "outputs": []
    },
    {
      "cell_type": "code",
      "metadata": {
        "id": "Inv8LfCRAkuJ"
      },
      "source": [
        "X = 2*np.random.rand(100, 1)\n",
        "y = 4 + 3 * x + np.random.randn(100,1)"
      ],
      "execution_count": null,
      "outputs": []
    },
    {
      "cell_type": "markdown",
      "metadata": {
        "id": "GWFX97F6BBfW"
      },
      "source": [
        "y = 4 + 3x + &theta;"
      ]
    },
    {
      "cell_type": "code",
      "metadata": {
        "id": "pRWfPc2SArw8"
      },
      "source": [
        "import matplotlib.pyplot as plt"
      ],
      "execution_count": null,
      "outputs": []
    },
    {
      "cell_type": "code",
      "metadata": {
        "id": "NQgvQE99A0aq"
      },
      "source": [
        "plt.figure()"
      ],
      "execution_count": null,
      "outputs": []
    },
    {
      "cell_type": "code",
      "metadata": {
        "id": "Wcd2wadWA2ah"
      },
      "source": [
        "plt.scatter(X, y)"
      ],
      "execution_count": null,
      "outputs": []
    },
    {
      "cell_type": "markdown",
      "metadata": {
        "id": "ejq-9ViVBvm-"
      },
      "source": [
        "# 정규방정식(Normal Equation)\n",
        "\n",
        "$\\hat{\\theta} (X^{T} \\cdot X)^{-1}  \\cdot X^{T} \\cdot y $\n",
        "\n",
        "- $\\hat{\\theta}$는 비용 함수를 최소화하는 $\\theta\\ 값\n",
        "\n",
        "- $\\mathbf{y}$는   $y^{(1)}$부터 $y^{(m)}$까지 포함하는 target 벡터\n",
        "\n"
      ]
    },
    {
      "cell_type": "code",
      "metadata": {
        "id": "bt0pw9zjA4VB"
      },
      "source": [
        "X_b = np.c_[np.ones((100,1)), X]"
      ],
      "execution_count": null,
      "outputs": []
    },
    {
      "cell_type": "code",
      "metadata": {
        "id": "a60Rcz0eE7QR"
      },
      "source": [
        "theta_best = np.linalg.inv(X_b.T.dot(X_b)).dot(X_b.T).dot(y)"
      ],
      "execution_count": null,
      "outputs": []
    },
    {
      "cell_type": "code",
      "metadata": {
        "id": "HPWIgFuxGzi8"
      },
      "source": [
        "theta_best"
      ],
      "execution_count": null,
      "outputs": []
    },
    {
      "cell_type": "code",
      "metadata": {
        "id": "9JHJrB3xG1PV"
      },
      "source": [
        "X_new = np.array([[0],[2]])"
      ],
      "execution_count": null,
      "outputs": []
    },
    {
      "cell_type": "code",
      "metadata": {
        "id": "JCH8jepSHABg"
      },
      "source": [
        "X_new_b = np.c_[np.ones((2,1)), X_new]  # 모든 샘플에 x0 = 1을 추가합니다."
      ],
      "execution_count": null,
      "outputs": []
    },
    {
      "cell_type": "code",
      "metadata": {
        "id": "d_KX1T6aHMK5"
      },
      "source": [
        "y_predict = X_new_b.dot(theta_best)"
      ],
      "execution_count": null,
      "outputs": []
    },
    {
      "cell_type": "code",
      "metadata": {
        "id": "w7wvWOYHHPyK"
      },
      "source": [
        "y_predict"
      ],
      "execution_count": null,
      "outputs": []
    },
    {
      "cell_type": "code",
      "metadata": {
        "id": "PW_HjrzMHQqI"
      },
      "source": [
        "plt.plot(X_new, y_predict, \"r-\")"
      ],
      "execution_count": null,
      "outputs": []
    },
    {
      "cell_type": "code",
      "metadata": {
        "id": "Iw0KYg7EHgKw"
      },
      "source": [
        "plt.plot(X,y, \"b.\")"
      ],
      "execution_count": null,
      "outputs": []
    },
    {
      "cell_type": "code",
      "metadata": {
        "id": "sHGuwK56Hpj9"
      },
      "source": [
        "plt.plot(X_new, y_predict, \"r-\")\n",
        "plt.plot(X,y, \"b.\")\n",
        "plt.axis([0,2,0,15])\n",
        "plt.show()"
      ],
      "execution_count": null,
      "outputs": []
    },
    {
      "cell_type": "code",
      "metadata": {
        "id": "wcCHUsBJHsF5"
      },
      "source": [
        "from sklearn.linear_model import LinearRegression\n",
        "lin_reg = LinearRegression()\n",
        "lin_reg.fit(x,y)"
      ],
      "execution_count": null,
      "outputs": []
    },
    {
      "cell_type": "code",
      "metadata": {
        "id": "dp9eZUgZIW-r"
      },
      "source": [
        "lin_reg.intercept_, lin_reg.coef_"
      ],
      "execution_count": null,
      "outputs": []
    },
    {
      "cell_type": "code",
      "metadata": {
        "id": "IHym1AkGIZ_O"
      },
      "source": [
        "lin_reg.predict(X_new)"
      ],
      "execution_count": null,
      "outputs": []
    },
    {
      "cell_type": "markdown",
      "metadata": {
        "id": "ndzu8Sb7Lcoz"
      },
      "source": [
        "# 경사 하강법(Gradient Descent)\n",
        "\n",
        "## 배치 경사 하강법(Batch Gradient Descent)"
      ]
    },
    {
      "cell_type": "code",
      "metadata": {
        "id": "VH5hP18eIfep"
      },
      "source": [
        "eta = 0.1 # 학습률\n",
        "n_iterations = 1000\n",
        "m = 100"
      ],
      "execution_count": null,
      "outputs": []
    },
    {
      "cell_type": "code",
      "metadata": {
        "id": "e4wrJyJpLsYS"
      },
      "source": [
        "theta = np.random.randn(2,1) # 가우시안 랜덤 초기화"
      ],
      "execution_count": null,
      "outputs": []
    },
    {
      "cell_type": "code",
      "metadata": {
        "id": "rjnxhESLLsqf"
      },
      "source": [
        "for iteration in range(n_iterations):\n",
        "    gradients = 2/m * X_b.T.dot(X_b.dot(theta) - y)\n",
        "    theta = theta - eta * gradients"
      ],
      "execution_count": null,
      "outputs": []
    },
    {
      "cell_type": "code",
      "metadata": {
        "id": "4rmU-DauMBWb"
      },
      "source": [
        "theta"
      ],
      "execution_count": null,
      "outputs": []
    },
    {
      "cell_type": "markdown",
      "metadata": {
        "id": "1eT14pjhNVCL"
      },
      "source": [
        "## 확률적 경사 하강법(Stochastic Gradient Descent)"
      ]
    },
    {
      "cell_type": "code",
      "metadata": {
        "id": "hPnaykaBMDl7"
      },
      "source": [
        "n_epochs = 50\n",
        "t0, t1 = 5, 50 # 학습 스케줄 하이퍼파라미터"
      ],
      "execution_count": null,
      "outputs": []
    },
    {
      "cell_type": "code",
      "metadata": {
        "id": "dAYsuhdyN0fA"
      },
      "source": [
        "def learning_schedule(t):\n",
        "    return t0 / (t + t1)"
      ],
      "execution_count": null,
      "outputs": []
    },
    {
      "cell_type": "code",
      "metadata": {
        "id": "R2HRmc64N6Gl"
      },
      "source": [
        "theta = np.random.randn(2,1) # 가우시안 랜덤 초기화"
      ],
      "execution_count": null,
      "outputs": []
    },
    {
      "cell_type": "code",
      "metadata": {
        "id": "OVUqZhjEN8SY"
      },
      "source": [
        "for epoch in range(n_epochs):\n",
        "    for i in range(m):\n",
        "        random_index = np.random.randint(m)\n",
        "        xi = X_b[random_index:random_index + 1]\n",
        "        yi = y[random_index:random_index + 1]\n",
        "        gradients = 2 * xi.T.dot(xi.dot(theta) - yi)\n",
        "        eta = learning_schedule(epoch * m + i)\n",
        "        theta = theta - eta * gradients"
      ],
      "execution_count": null,
      "outputs": []
    },
    {
      "cell_type": "code",
      "metadata": {
        "id": "tNG2Ny1BOU3b"
      },
      "source": [
        "theta"
      ],
      "execution_count": null,
      "outputs": []
    },
    {
      "cell_type": "code",
      "metadata": {
        "id": "oNTY_MokOVvp"
      },
      "source": [
        "from sklearn.linear_model import SGDRegressor\n",
        "sgd_reg = SGDRegressor(max_iter = 50, penalty = None, eta0 = 0.1)\n",
        "sgd_reg.fit(X, y.ravel())"
      ],
      "execution_count": null,
      "outputs": []
    },
    {
      "cell_type": "code",
      "metadata": {
        "id": "cdfSjYROO1-_"
      },
      "source": [
        "sgd_reg.intercept_, sgd_reg.coef_"
      ],
      "execution_count": null,
      "outputs": []
    },
    {
      "cell_type": "markdown",
      "metadata": {
        "id": "6qINzHGsQJY2"
      },
      "source": [
        "|알고리즘|m이 클때|외부 메모리 학습 지원|n이 클때|스케일 조정 필요|사이킷런|\n",
        "|------|:---:|:---:|:---:|:---:|:---:|\n",
        "|정규방정식          |빠름|No |0  |No |LinearRegression|\n",
        "|배치 경사 하강법    |느림|No |2  |Yes|n/a             |\n",
        "|확률적 경사 하강법  |빠름|Yes|>=2|Yes|SGDRegression   |\n",
        "|미니배치 경사 하강법|빠름|Yes|>=2|Yes|n/a             |"
      ]
    }
  ]
}