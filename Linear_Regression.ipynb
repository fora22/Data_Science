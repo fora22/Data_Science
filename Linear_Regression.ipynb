{
  "nbformat": 4,
  "nbformat_minor": 0,
  "metadata": {
    "colab": {
      "name": "Linear Regression.ipynb",
      "provenance": [],
      "collapsed_sections": [],
      "authorship_tag": "ABX9TyMjBd5zdu9ecq9REXkA9ZqS",
      "include_colab_link": true
    },
    "kernelspec": {
      "name": "python3",
      "display_name": "Python 3"
    },
    "language_info": {
      "name": "python"
    }
  },
  "cells": [
    {
      "cell_type": "markdown",
      "metadata": {
        "id": "view-in-github",
        "colab_type": "text"
      },
      "source": [
        "<a href=\"https://colab.research.google.com/github/fora22/Data_Science/blob/main/Linear_Regression.ipynb\" target=\"_parent\"><img src=\"https://colab.research.google.com/assets/colab-badge.svg\" alt=\"Open In Colab\"/></a>"
      ]
    },
    {
      "cell_type": "code",
      "metadata": {
        "id": "0qEkWfvlASmv"
      },
      "source": [
        "import numpy as np"
      ],
      "execution_count": 1,
      "outputs": []
    },
    {
      "cell_type": "code",
      "metadata": {
        "id": "Inv8LfCRAkuJ"
      },
      "source": [
        "X = 2*np.random.rand(100, 1)\n",
        "y = 4 + 3 * X + np.random.randn(100,1)"
      ],
      "execution_count": 3,
      "outputs": []
    },
    {
      "cell_type": "markdown",
      "metadata": {
        "id": "GWFX97F6BBfW"
      },
      "source": [
        "y = 4 + 3x + &theta;"
      ]
    },
    {
      "cell_type": "code",
      "metadata": {
        "id": "pRWfPc2SArw8"
      },
      "source": [
        "import matplotlib.pyplot as plt"
      ],
      "execution_count": 4,
      "outputs": []
    },
    {
      "cell_type": "code",
      "metadata": {
        "id": "NQgvQE99A0aq",
        "colab": {
          "base_uri": "https://localhost:8080/",
          "height": 52
        },
        "outputId": "562df425-108a-463e-f990-ab3f77fec481"
      },
      "source": [
        "plt.figure()"
      ],
      "execution_count": 5,
      "outputs": [
        {
          "output_type": "execute_result",
          "data": {
            "text/plain": [
              "<Figure size 432x288 with 0 Axes>"
            ]
          },
          "metadata": {
            "tags": []
          },
          "execution_count": 5
        },
        {
          "output_type": "display_data",
          "data": {
            "text/plain": [
              "<Figure size 432x288 with 0 Axes>"
            ]
          },
          "metadata": {
            "tags": []
          }
        }
      ]
    },
    {
      "cell_type": "code",
      "metadata": {
        "id": "Wcd2wadWA2ah",
        "colab": {
          "base_uri": "https://localhost:8080/",
          "height": 282
        },
        "outputId": "1b275ae7-831d-48cf-b116-097c4858a8b9"
      },
      "source": [
        "plt.scatter(X, y)"
      ],
      "execution_count": 6,
      "outputs": [
        {
          "output_type": "execute_result",
          "data": {
            "text/plain": [
              "<matplotlib.collections.PathCollection at 0x7fcc336a88d0>"
            ]
          },
          "metadata": {
            "tags": []
          },
          "execution_count": 6
        },
        {
          "output_type": "display_data",
          "data": {
            "image/png": "[encoded data removed]",
            "text/plain": [
              "<Figure size 432x288 with 1 Axes>"
            ]
          },
          "metadata": {
            "tags": [],
            "needs_background": "light"
          }
        }
      ]
    },
    {
      "cell_type": "markdown",
      "metadata": {
        "id": "ejq-9ViVBvm-"
      },
      "source": [
        "# 정규방정식(Normal Equation)\n",
        "\n",
        "$\\hat{\\theta} (X^{T} \\cdot X)^{-1}  \\cdot X^{T} \\cdot y $\n",
        "\n",
        "- $\\hat{\\theta}$는 비용 함수를 최소화하는 $\\theta\\ 값\n",
        "\n",
        "- $\\mathbf{y}$는   $y^{(1)}$부터 $y^{(m)}$까지 포함하는 target 벡터\n",
        "\n"
      ]
    },
    {
      "cell_type": "code",
      "metadata": {
        "id": "bt0pw9zjA4VB"
      },
      "source": [
        "X_b = np.c_[np.ones((100,1)), X]"
      ],
      "execution_count": 7,
      "outputs": []
    },
    {
      "cell_type": "code",
      "metadata": {
        "id": "a60Rcz0eE7QR"
      },
      "source": [
        "theta_best = np.linalg.inv(X_b.T.dot(X_b)).dot(X_b.T).dot(y)"
      ],
      "execution_count": 8,
      "outputs": []
    },
    {
      "cell_type": "code",
      "metadata": {
        "id": "HPWIgFuxGzi8",
        "colab": {
          "base_uri": "https://localhost:8080/"
        },
        "outputId": "3c8b13a6-aff1-41ef-d70c-844deb678e21"
      },
      "source": [
        "theta_best"
      ],
      "execution_count": 9,
      "outputs": [
        {
          "output_type": "execute_result",
          "data": {
            "text/plain": [
              "array([[3.86312739],\n",
              "       [3.131299  ]])"
            ]
          },
          "metadata": {
            "tags": []
          },
          "execution_count": 9
        }
      ]
    },
    {
      "cell_type": "code",
      "metadata": {
        "id": "9JHJrB3xG1PV"
      },
      "source": [
        "X_new = np.array([[0],[2]])"
      ],
      "execution_count": 10,
      "outputs": []
    },
    {
      "cell_type": "code",
      "metadata": {
        "id": "JCH8jepSHABg"
      },
      "source": [
        "X_new_b = np.c_[np.ones((2,1)), X_new]  # 모든 샘플에 x0 = 1을 추가합니다."
      ],
      "execution_count": 11,
      "outputs": []
    },
    {
      "cell_type": "code",
      "metadata": {
        "id": "d_KX1T6aHMK5"
      },
      "source": [
        "y_predict = X_new_b.dot(theta_best)"
      ],
      "execution_count": 12,
      "outputs": []
    },
    {
      "cell_type": "code",
      "metadata": {
        "id": "w7wvWOYHHPyK",
        "colab": {
          "base_uri": "https://localhost:8080/"
        },
        "outputId": "a5700486-38ed-485c-a590-334d32c38447"
      },
      "source": [
        "y_predict"
      ],
      "execution_count": 13,
      "outputs": [
        {
          "output_type": "execute_result",
          "data": {
            "text/plain": [
              "array([[ 3.86312739],\n",
              "       [10.12572538]])"
            ]
          },
          "metadata": {
            "tags": []
          },
          "execution_count": 13
        }
      ]
    },
    {
      "cell_type": "code",
      "metadata": {
        "id": "PW_HjrzMHQqI",
        "colab": {
          "base_uri": "https://localhost:8080/",
          "height": 282
        },
        "outputId": "f012abda-d915-4a77-817a-573e65054fe6"
      },
      "source": [
        "plt.plot(X_new, y_predict, \"r-\")"
      ],
      "execution_count": 14,
      "outputs": [
        {
          "output_type": "execute_result",
          "data": {
            "text/plain": [
              "[<matplotlib.lines.Line2D at 0x7fcc37751890>]"
            ]
          },
          "metadata": {
            "tags": []
          },
          "execution_count": 14
        },
        {
          "output_type": "display_data",
          "data": {
            "image/png": "[encoded data removed]",
            "text/plain": [
              "<Figure size 432x288 with 1 Axes>"
            ]
          },
          "metadata": {
            "tags": [],
            "needs_background": "light"
          }
        }
      ]
    },
    {
      "cell_type": "code",
      "metadata": {
        "id": "Iw0KYg7EHgKw",
        "colab": {
          "base_uri": "https://localhost:8080/",
          "height": 282
        },
        "outputId": "9a8b8fdd-1610-41ab-86bb-8b5fef833062"
      },
      "source": [
        "plt.plot(X,y, \"b.\")"
      ],
      "execution_count": 15,
      "outputs": [
        {
          "output_type": "execute_result",
          "data": {
            "text/plain": [
              "[<matplotlib.lines.Line2D at 0x7fcc2b119690>]"
            ]
          },
          "metadata": {
            "tags": []
          },
          "execution_count": 15
        },
        {
          "output_type": "display_data",
          "data": {
            "image/png": "[encoded data removed]",
            "text/plain": [
              "<Figure size 432x288 with 1 Axes>"
            ]
          },
          "metadata": {
            "tags": [],
            "needs_background": "light"
          }
        }
      ]
    },
    {
      "cell_type": "code",
      "metadata": {
        "id": "sHGuwK56Hpj9",
        "colab": {
          "base_uri": "https://localhost:8080/",
          "height": 264
        },
        "outputId": "a1dda7e5-dfde-4b67-97b1-e579ddd7507e"
      },
      "source": [
        "plt.plot(X_new, y_predict, \"r-\")\n",
        "plt.plot(X,y, \"b.\")\n",
        "plt.axis([0,2,0,15])\n",
        "plt.show()"
      ],
      "execution_count": 16,
      "outputs": [
        {
          "output_type": "display_data",
          "data": {
            "image/png": "[encoded data removed]",
            "text/plain": [
              "<Figure size 432x288 with 1 Axes>"
            ]
          },
          "metadata": {
            "tags": [],
            "needs_background": "light"
          }
        }
      ]
    },
    {
      "cell_type": "code",
      "metadata": {
        "id": "wcCHUsBJHsF5",
        "colab": {
          "base_uri": "https://localhost:8080/"
        },
        "outputId": "7f4eda73-8f74-4aa9-c15d-0f60ebbbd92e"
      },
      "source": [
        "from sklearn.linear_model import LinearRegression\n",
        "lin_reg = LinearRegression()\n",
        "lin_reg.fit(X,y)"
      ],
      "execution_count": 19,
      "outputs": [
        {
          "output_type": "execute_result",
          "data": {
            "text/plain": [
              "LinearRegression(copy_X=True, fit_intercept=True, n_jobs=None, normalize=False)"
            ]
          },
          "metadata": {
            "tags": []
          },
          "execution_count": 19
        }
      ]
    },
    {
      "cell_type": "code",
      "metadata": {
        "id": "dp9eZUgZIW-r",
        "colab": {
          "base_uri": "https://localhost:8080/"
        },
        "outputId": "34c35c51-cf61-427b-c84c-d537b4377639"
      },
      "source": [
        "lin_reg.intercept_, lin_reg.coef_"
      ],
      "execution_count": 20,
      "outputs": [
        {
          "output_type": "execute_result",
          "data": {
            "text/plain": [
              "(array([3.86312739]), array([[3.131299]]))"
            ]
          },
          "metadata": {
            "tags": []
          },
          "execution_count": 20
        }
      ]
    },
    {
      "cell_type": "code",
      "metadata": {
        "id": "IHym1AkGIZ_O",
        "colab": {
          "base_uri": "https://localhost:8080/"
        },
        "outputId": "dd3dfaf9-5600-4458-e650-232da795ab86"
      },
      "source": [
        "lin_reg.predict(X_new)"
      ],
      "execution_count": 21,
      "outputs": [
        {
          "output_type": "execute_result",
          "data": {
            "text/plain": [
              "array([[ 3.86312739],\n",
              "       [10.12572538]])"
            ]
          },
          "metadata": {
            "tags": []
          },
          "execution_count": 21
        }
      ]
    },
    {
      "cell_type": "markdown",
      "metadata": {
        "id": "ndzu8Sb7Lcoz"
      },
      "source": [
        "# 경사 하강법(Gradient Descent)\n",
        "\n",
        "## 배치 경사 하강법(Batch Gradient Descent)\n",
        "\n",
        "$\\theta^{next step} = \\theta - \\eta \\nabla_{\\theta}MSE(\\theta) $"
      ]
    },
    {
      "cell_type": "code",
      "metadata": {
        "id": "VH5hP18eIfep"
      },
      "source": [
        "eta = 0.1 # 학습률\n",
        "n_iterations = 1000\n",
        "m = 100"
      ],
      "execution_count": 22,
      "outputs": []
    },
    {
      "cell_type": "code",
      "metadata": {
        "id": "e4wrJyJpLsYS"
      },
      "source": [
        "theta = np.random.randn(2,1) # 가우시안 랜덤 초기화"
      ],
      "execution_count": 23,
      "outputs": []
    },
    {
      "cell_type": "code",
      "metadata": {
        "id": "rjnxhESLLsqf"
      },
      "source": [
        "for iteration in range(n_iterations):\n",
        "    gradients = 2/m * X_b.T.dot(X_b.dot(theta) - y)\n",
        "    theta = theta - eta * gradients"
      ],
      "execution_count": 24,
      "outputs": []
    },
    {
      "cell_type": "code",
      "metadata": {
        "id": "4rmU-DauMBWb",
        "colab": {
          "base_uri": "https://localhost:8080/"
        },
        "outputId": "16522d96-7b1b-48d4-8d38-f154bfe91a6c"
      },
      "source": [
        "theta"
      ],
      "execution_count": 25,
      "outputs": [
        {
          "output_type": "execute_result",
          "data": {
            "text/plain": [
              "array([[3.86312739],\n",
              "       [3.131299  ]])"
            ]
          },
          "metadata": {
            "tags": []
          },
          "execution_count": 25
        }
      ]
    },
    {
      "cell_type": "markdown",
      "metadata": {
        "id": "1eT14pjhNVCL"
      },
      "source": [
        "## 확률적 경사 하강법(Stochastic Gradient Descent)"
      ]
    },
    {
      "cell_type": "code",
      "metadata": {
        "id": "hPnaykaBMDl7"
      },
      "source": [
        "n_epochs = 50\n",
        "t0, t1 = 5, 50 # 학습 스케줄 하이퍼파라미터"
      ],
      "execution_count": 26,
      "outputs": []
    },
    {
      "cell_type": "code",
      "metadata": {
        "id": "dAYsuhdyN0fA"
      },
      "source": [
        "def learning_schedule(t):\n",
        "    return t0 / (t + t1)"
      ],
      "execution_count": 27,
      "outputs": []
    },
    {
      "cell_type": "code",
      "metadata": {
        "id": "R2HRmc64N6Gl"
      },
      "source": [
        "theta = np.random.randn(2,1) # 가우시안 랜덤 초기화"
      ],
      "execution_count": 28,
      "outputs": []
    },
    {
      "cell_type": "code",
      "metadata": {
        "id": "OVUqZhjEN8SY"
      },
      "source": [
        "for epoch in range(n_epochs):\n",
        "    for i in range(m):\n",
        "        random_index = np.random.randint(m)\n",
        "        xi = X_b[random_index:random_index + 1]\n",
        "        yi = y[random_index:random_index + 1]\n",
        "        gradients = 2 * xi.T.dot(xi.dot(theta) - yi)\n",
        "        eta = learning_schedule(epoch * m + i)\n",
        "        theta = theta - eta * gradients"
      ],
      "execution_count": 29,
      "outputs": []
    },
    {
      "cell_type": "code",
      "metadata": {
        "id": "tNG2Ny1BOU3b",
        "colab": {
          "base_uri": "https://localhost:8080/"
        },
        "outputId": "ba170383-fe46-4319-87e5-705aade16fb1"
      },
      "source": [
        "theta"
      ],
      "execution_count": 30,
      "outputs": [
        {
          "output_type": "execute_result",
          "data": {
            "text/plain": [
              "array([[3.88999086],\n",
              "       [3.13618454]])"
            ]
          },
          "metadata": {
            "tags": []
          },
          "execution_count": 30
        }
      ]
    },
    {
      "cell_type": "code",
      "metadata": {
        "id": "oNTY_MokOVvp",
        "colab": {
          "base_uri": "https://localhost:8080/"
        },
        "outputId": "1ae12b9d-b6b6-4c72-8fd0-a2da592e9187"
      },
      "source": [
        "from sklearn.linear_model import SGDRegressor\n",
        "sgd_reg = SGDRegressor(max_iter = 50, penalty = None, eta0 = 0.1)\n",
        "sgd_reg.fit(X, y.ravel())"
      ],
      "execution_count": 31,
      "outputs": [
        {
          "output_type": "execute_result",
          "data": {
            "text/plain": [
              "SGDRegressor(alpha=0.0001, average=False, early_stopping=False, epsilon=0.1,\n",
              "             eta0=0.1, fit_intercept=True, l1_ratio=0.15,\n",
              "             learning_rate='invscaling', loss='squared_loss', max_iter=50,\n",
              "             n_iter_no_change=5, penalty=None, power_t=0.25, random_state=None,\n",
              "             shuffle=True, tol=0.001, validation_fraction=0.1, verbose=0,\n",
              "             warm_start=False)"
            ]
          },
          "metadata": {
            "tags": []
          },
          "execution_count": 31
        }
      ]
    },
    {
      "cell_type": "code",
      "metadata": {
        "id": "cdfSjYROO1-_",
        "colab": {
          "base_uri": "https://localhost:8080/"
        },
        "outputId": "26166a5c-fcc2-42ba-cb1e-359c36cc33ce"
      },
      "source": [
        "sgd_reg.intercept_, sgd_reg.coef_"
      ],
      "execution_count": 32,
      "outputs": [
        {
          "output_type": "execute_result",
          "data": {
            "text/plain": [
              "(array([3.90295311]), array([3.1899431]))"
            ]
          },
          "metadata": {
            "tags": []
          },
          "execution_count": 32
        }
      ]
    },
    {
      "cell_type": "markdown",
      "metadata": {
        "id": "6qINzHGsQJY2"
      },
      "source": [
        "|알고리즘|m이 클때|외부 메모리 학습 지원|n이 클때|스케일 조정 필요|사이킷런|\n",
        "|------|:---:|:---:|:---:|:---:|:---:|\n",
        "|정규방정식          |빠름|No |0  |No |LinearRegression|\n",
        "|배치 경사 하강법    |느림|No |2  |Yes|n/a             |\n",
        "|확률적 경사 하강법  |빠름|Yes|>=2|Yes|SGDRegression   |\n",
        "|미니배치 경사 하강법|빠름|Yes|>=2|Yes|n/a             |"
      ]
    }
  ]
}