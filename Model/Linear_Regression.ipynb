{
  "nbformat": 4,
  "nbformat_minor": 0,
  "metadata": {
    "colab": {
      "name": "Linear Regression.ipynb",
      "private_outputs": true,
      "provenance": [],
      "collapsed_sections": [],
      "authorship_tag": "ABX9TyN43dFtSXHUaMtSpU9aLLlg",
      "include_colab_link": true
    },
    "kernelspec": {
      "name": "python3",
      "display_name": "Python 3"
    },
    "language_info": {
      "name": "python"
    }
  },
  "cells": [
    {
      "cell_type": "markdown",
      "metadata": {
        "id": "view-in-github",
        "colab_type": "text"
      },
      "source": [
        "<a href=\"https://colab.research.google.com/github/fora22/Data_Science/blob/main/Linear_Regression.ipynb\" target=\"_parent\"><img src=\"https://colab.research.google.com/assets/colab-badge.svg\" alt=\"Open In Colab\"/></a>"
      ]
    },
    {
      "cell_type": "code",
      "metadata": {
        "id": "0qEkWfvlASmv"
      },
      "source": [
        "import numpy as np"
      ],
      "execution_count": null,
      "outputs": []
    },
    {
      "cell_type": "code",
      "metadata": {
        "id": "Inv8LfCRAkuJ"
      },
      "source": [
        "x = 2*np.random.rand(100, 1)\n",
        "y = 4 + 3 * x + np.random.randn(100,1)"
      ],
      "execution_count": null,
      "outputs": []
    },
    {
      "cell_type": "markdown",
      "metadata": {
        "id": "GWFX97F6BBfW"
      },
      "source": [
        "y = 4 + 3x + &theta;"
      ]
    },
    {
      "cell_type": "code",
      "metadata": {
        "id": "pRWfPc2SArw8"
      },
      "source": [
        "import matplotlib.pyplot as plt"
      ],
      "execution_count": null,
      "outputs": []
    },
    {
      "cell_type": "code",
      "metadata": {
        "id": "NQgvQE99A0aq"
      },
      "source": [
        "plt.figure()"
      ],
      "execution_count": null,
      "outputs": []
    },
    {
      "cell_type": "code",
      "metadata": {
        "id": "Wcd2wadWA2ah"
      },
      "source": [
        "plt.scatter(x, y)"
      ],
      "execution_count": null,
      "outputs": []
    },
    {
      "cell_type": "code",
      "metadata": {
        "id": "bt0pw9zjA4VB"
      },
      "source": [
        ""
      ],
      "execution_count": null,
      "outputs": []
    },
    {
      "cell_type": "markdown",
      "metadata": {
        "id": "ejq-9ViVBvm-"
      },
      "source": [
        "정규방정식(Normal Equation)\n",
        "\n",
        "$\\hat{\\theta} (X^{T} \\cdot X)^{-1}  \\cdot X^{T} \\cdot y $\n",
        "\n",
        "- $\\hat{\\theta}$는 비용 함수를 최소화하는 $\\theta\\ 값\n",
        "\n",
        "- $\\mathbf{y}$는   $y^{(1)}$부터 $y^{(m)}$까지 포함하는 target 벡터\n",
        "\n"
      ]
    },
    {
      "cell_type": "code",
      "metadata": {
        "id": "a60Rcz0eE7QR"
      },
      "source": [
        ""
      ],
      "execution_count": null,
      "outputs": []
    }
  ]
}