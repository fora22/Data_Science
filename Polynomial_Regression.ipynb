{
  "nbformat": 4,
  "nbformat_minor": 0,
  "metadata": {
    "colab": {
      "name": "Polynomial Regression.ipynb",
      "provenance": [],
      "collapsed_sections": [],
      "authorship_tag": "ABX9TyMg4eF3XfuqINogegu1UwTw",
      "include_colab_link": true
    },
    "kernelspec": {
      "name": "python3",
      "display_name": "Python 3"
    },
    "language_info": {
      "name": "python"
    }
  },
  "cells": [
    {
      "cell_type": "markdown",
      "metadata": {
        "id": "view-in-github",
        "colab_type": "text"
      },
      "source": [
        "<a href=\"https://colab.research.google.com/github/fora22/Data_Science/blob/main/Polynomial_Regression.ipynb\" target=\"_parent\"><img src=\"https://colab.research.google.com/assets/colab-badge.svg\" alt=\"Open In Colab\"/></a>"
      ]
    },
    {
      "cell_type": "code",
      "metadata": {
        "id": "OkdnmBEzSj0C"
      },
      "source": [
        "import numpy as np\n",
        "import matplotlib.pyplot as plt"
      ],
      "execution_count": 20,
      "outputs": []
    },
    {
      "cell_type": "markdown",
      "metadata": {
        "id": "jlXXlIopYJ6I"
      },
      "source": [
        "# 다항 회귀(Polynomial Regression)"
      ]
    },
    {
      "cell_type": "code",
      "metadata": {
        "id": "sJgqgW6vSPM5"
      },
      "source": [
        "m = 100\n",
        "X = 6 * np.random.rand(m,1) - 3\n",
        "y = 0.5 * X**2 + X + 2 + np.random.randn(m,1)"
      ],
      "execution_count": 21,
      "outputs": []
    },
    {
      "cell_type": "code",
      "metadata": {
        "id": "m_biH5cPSg5-",
        "colab": {
          "base_uri": "https://localhost:8080/",
          "height": 282
        },
        "outputId": "0a62f5e3-9e0e-4cae-b8e9-a9ff3025da02"
      },
      "source": [
        "plt.figure()\n",
        "plt.plot(X, y, 'b.')"
      ],
      "execution_count": 22,
      "outputs": [
        {
          "output_type": "execute_result",
          "data": {
            "text/plain": [
              "[<matplotlib.lines.Line2D at 0x7feab6fe3050>]"
            ]
          },
          "metadata": {
            "tags": []
          },
          "execution_count": 22
        },
        {
          "output_type": "display_data",
          "data": {
            "image/png": "[encoded data removed]",
            "text/plain": [
              "<Figure size 432x288 with 1 Axes>"
            ]
          },
          "metadata": {
            "tags": [],
            "needs_background": "light"
          }
        }
      ]
    },
    {
      "cell_type": "code",
      "metadata": {
        "id": "Us61YYhXSucS"
      },
      "source": [
        "from sklearn.preprocessing import PolynomialFeatures\n",
        "poly_features = PolynomialFeatures(degree = 2, include_bias = False)\n",
        "X_poly = poly_features.fit_transform(X)"
      ],
      "execution_count": 23,
      "outputs": []
    },
    {
      "cell_type": "code",
      "metadata": {
        "id": "zPovaYg7TC3e",
        "colab": {
          "base_uri": "https://localhost:8080/"
        },
        "outputId": "9c3c749d-4f97-480b-fdea-e14ae94fd34c"
      },
      "source": [
        "X[0]"
      ],
      "execution_count": 24,
      "outputs": [
        {
          "output_type": "execute_result",
          "data": {
            "text/plain": [
              "array([-2.16567841])"
            ]
          },
          "metadata": {
            "tags": []
          },
          "execution_count": 24
        }
      ]
    },
    {
      "cell_type": "code",
      "metadata": {
        "id": "GNs3N82sTDdY",
        "colab": {
          "base_uri": "https://localhost:8080/"
        },
        "outputId": "156ce555-c447-425d-f2cb-8f53b4cd2405"
      },
      "source": [
        "X_poly[0] # ([x, X^2])"
      ],
      "execution_count": 25,
      "outputs": [
        {
          "output_type": "execute_result",
          "data": {
            "text/plain": [
              "array([-2.16567841,  4.69016297])"
            ]
          },
          "metadata": {
            "tags": []
          },
          "execution_count": 25
        }
      ]
    },
    {
      "cell_type": "code",
      "metadata": {
        "id": "bpn5g0y0TGKY",
        "colab": {
          "base_uri": "https://localhost:8080/"
        },
        "outputId": "14c9d439-b5fc-4949-9731-9302923c81d6"
      },
      "source": [
        "from sklearn.linear_model import LinearRegression\n",
        "lin_reg = LinearRegression()\n",
        "lin_reg.fit(X_poly, y)\n",
        "lin_reg.intercept_, lin_reg.coef_"
      ],
      "execution_count": 26,
      "outputs": [
        {
          "output_type": "execute_result",
          "data": {
            "text/plain": [
              "(array([1.91796969]), array([[0.87264031, 0.47790106]]))"
            ]
          },
          "metadata": {
            "tags": []
          },
          "execution_count": 26
        }
      ]
    },
    {
      "cell_type": "markdown",
      "metadata": {
        "id": "S5NLPAAEYVbu"
      },
      "source": [
        "# 선형 학습 곡선"
      ]
    },
    {
      "cell_type": "code",
      "metadata": {
        "id": "qXJIyrqrUXTz"
      },
      "source": [
        "from sklearn.metrics import mean_squared_error\n",
        "from sklearn.model_selection import train_test_split"
      ],
      "execution_count": 27,
      "outputs": []
    },
    {
      "cell_type": "code",
      "metadata": {
        "id": "G2N-aA8oYsou"
      },
      "source": [
        "def plot_learning_curves(model, X, y):\n",
        "    X_train, X_val, y_train, y_val = train_test_split(X, y, test_size = 0.2)\n",
        "    train_errors, val_errors = [], []\n",
        "    for m in range(1, len(X_train)):\n",
        "        model.fit(X_train[:m], y_train[:m])\n",
        "        y_train_predict = model.predict(X_train[:m])\n",
        "        y_val_predict = model.predict(X_val)\n",
        "        train_errors.append(mean_squared_error(y_train[:m], y_train_predict))\n",
        "        val_errors.append(mean_squared_error(y_val, y_val_predict))\n",
        "    plt.plot(np.sqrt(train_errors), \"r-+\", linewidth = 2, label = \"훈련 세트\")\n",
        "    plt.plot(np.sqrt(val_errors), \"b-\", linewidth = 3, label = \"검증 세트\")"
      ],
      "execution_count": 28,
      "outputs": []
    },
    {
      "cell_type": "code",
      "metadata": {
        "colab": {
          "base_uri": "https://localhost:8080/",
          "height": 264
        },
        "id": "N_B4fWgLZ5AR",
        "outputId": "d396b34e-507a-4b64-932c-692200624abf"
      },
      "source": [
        "lin_reg = LinearRegression()\n",
        "plot_learning_curves(lin_reg, X, y)"
      ],
      "execution_count": 29,
      "outputs": [
        {
          "output_type": "display_data",
          "data": {
            "image/png": "[encoded data removed]",
            "text/plain": [
              "<Figure size 432x288 with 1 Axes>"
            ]
          },
          "metadata": {
            "tags": [],
            "needs_background": "light"
          }
        }
      ]
    },
    {
      "cell_type": "markdown",
      "metadata": {
        "id": "cpYfHj0Fapx_"
      },
      "source": [
        "# 다항 학습 곡선"
      ]
    },
    {
      "cell_type": "code",
      "metadata": {
        "colab": {
          "base_uri": "https://localhost:8080/",
          "height": 264
        },
        "id": "A8v-gk-VaBt8",
        "outputId": "42dd285a-b274-4bb7-dd50-865b6a541451"
      },
      "source": [
        "from sklearn.pipeline import Pipeline\n",
        "polynomial_regression = Pipeline([\n",
        "    (\"poly_features\", PolynomialFeatures(degree=10, include_bias=False)),\n",
        "    (\"lin_reg\", LinearRegression()),\n",
        "])\n",
        "\n",
        "plot_learning_curves(polynomial_regression, X, y)"
      ],
      "execution_count": 36,
      "outputs": [
        {
          "output_type": "display_data",
          "data": {
            "image/png": "[encoded data removed]",
            "text/plain": [
              "<Figure size 432x288 with 1 Axes>"
            ]
          },
          "metadata": {
            "tags": [],
            "needs_background": "light"
          }
        }
      ]
    },
    {
      "cell_type": "markdown",
      "metadata": {
        "id": "3G3gwqhnnVna"
      },
      "source": [
        "- 과대적합을 감소시키는 좋은 방법은 모델을 규제하는 것\n",
        "# 릿지 회귀\n",
        "티호노프(Tikhonov) 규제\n",
        "\n",
        "## 릿지 회귀의 비용 함수\n",
        "$J(\\theta) = MSE(\\theta) + \\alpha \\frac{1}{2} \\sum_{i=1}^N \\theta_{i}^{2}$ \n",
        "\n",
        "## 릿지 회귀의 정규방정식\n",
        "$\\hat{\\theta} (X^{T} \\cdot X + \\alpha A)^{-1}  \\cdot X^{T} \\cdot y $"
      ]
    },
    {
      "cell_type": "code",
      "metadata": {
        "id": "IAWAwMddb8sb"
      },
      "source": [
        "from sklearn.linear_model import Ridge"
      ],
      "execution_count": 37,
      "outputs": []
    },
    {
      "cell_type": "code",
      "metadata": {
        "colab": {
          "base_uri": "https://localhost:8080/"
        },
        "id": "0Fw9AnhqqKfk",
        "outputId": "2fe187a5-ffa1-47a5-ac57-f1a5373e4da0"
      },
      "source": [
        "ridge_reg = Ridge(alpha = 1, solver=\"cholesky\") # 숄레스티(Cholesky)가 발견한 행렬 분해 사용\n",
        "ridge_reg.fit(X, y)\n",
        "ridge_reg.predict([[1.5]])"
      ],
      "execution_count": 39,
      "outputs": [
        {
          "output_type": "execute_result",
          "data": {
            "text/plain": [
              "array([[4.54550143]])"
            ]
          },
          "metadata": {
            "tags": []
          },
          "execution_count": 39
        }
      ]
    },
    {
      "cell_type": "code",
      "metadata": {
        "id": "wFcgI2Z1reJU"
      },
      "source": [
        "from sklearn.linear_model import SGDRegressor"
      ],
      "execution_count": 41,
      "outputs": []
    },
    {
      "cell_type": "code",
      "metadata": {
        "colab": {
          "base_uri": "https://localhost:8080/"
        },
        "id": "F-ezmKBPqcZi",
        "outputId": "fc0c97f1-ea62-489b-80f9-f59980242a30"
      },
      "source": [
        "sgd_reg = SGDRegressor(max_iter = 5, penalty = \"l2\")\n",
        "sgd_reg.fit(X, y.ravel())\n",
        "sgd_reg.predict([[1.5]])"
      ],
      "execution_count": 43,
      "outputs": [
        {
          "output_type": "stream",
          "text": [
            "/usr/local/lib/python3.7/dist-packages/sklearn/linear_model/_stochastic_gradient.py:1187: ConvergenceWarning: Maximum number of iteration reached before convergence. Consider increasing max_iter to improve the fit.\n",
            "  ConvergenceWarning)\n"
          ],
          "name": "stderr"
        },
        {
          "output_type": "execute_result",
          "data": {
            "text/plain": [
              "array([3.80473677])"
            ]
          },
          "metadata": {
            "tags": []
          },
          "execution_count": 43
        }
      ]
    },
    {
      "cell_type": "markdown",
      "metadata": {
        "id": "nxa5XxawsGLE"
      },
      "source": [
        "# 라쏘(Lasso) 회귀\n",
        "Lasso : Least Absolute Shrinkage and Selection Operator\n",
        "\n",
        "## 라쏘 회귀의 비용 함수\n",
        "$J(\\theta) = MSE(\\theta) + \\alpha \\sum_{i=1}^N |\\theta_{i}|$ "
      ]
    },
    {
      "cell_type": "code",
      "metadata": {
        "id": "sRSpg22HrBuk"
      },
      "source": [
        "from sklearn.linear_model import Lasso"
      ],
      "execution_count": 44,
      "outputs": []
    },
    {
      "cell_type": "code",
      "metadata": {
        "colab": {
          "base_uri": "https://localhost:8080/"
        },
        "id": "oEmAF1batLiR",
        "outputId": "45d9d004-29ed-4ac8-eaa1-385bbaa73850"
      },
      "source": [
        "lasso_reg = Lasso(alpha=0.1)\n",
        "# sgd_reg = SGDRegressor(max_iter = 5, penalty = \"l1\")\n",
        "lasso_reg.fit(X, y)"
      ],
      "execution_count": 45,
      "outputs": [
        {
          "output_type": "execute_result",
          "data": {
            "text/plain": [
              "Lasso(alpha=0.1, copy_X=True, fit_intercept=True, max_iter=1000,\n",
              "      normalize=False, positive=False, precompute=False, random_state=None,\n",
              "      selection='cyclic', tol=0.0001, warm_start=False)"
            ]
          },
          "metadata": {
            "tags": []
          },
          "execution_count": 45
        }
      ]
    },
    {
      "cell_type": "code",
      "metadata": {
        "colab": {
          "base_uri": "https://localhost:8080/"
        },
        "id": "Yo74JokztRkG",
        "outputId": "953a8041-7fe7-48ea-e14a-dc4a5b286ca5"
      },
      "source": [
        "lasso_reg.predict([[1.5]])"
      ],
      "execution_count": 47,
      "outputs": [
        {
          "output_type": "execute_result",
          "data": {
            "text/plain": [
              "array([4.50028813])"
            ]
          },
          "metadata": {
            "tags": []
          },
          "execution_count": 47
        }
      ]
    },
    {
      "cell_type": "markdown",
      "metadata": {
        "id": "lz1F3We5tkPK"
      },
      "source": [
        "# 엘라스틱넷(Elastic Net) 회귀\n",
        "- 릿지와 라쏘를 절충한 모델\n",
        "- 혼합 비율 r을 사용해 조절\n",
        "  - r = 0이면 릿지 회귀\n",
        "  - r = 1이면 라쏘 회귀와 같다.\n",
        "\n",
        "## 라쏘 회귀의 비용 함수\n",
        "$J(\\theta) = MSE(\\theta) + r \\alpha \\sum_{i=1}^N |\\theta_{i}| + \\frac{1 - r}{2} \\alpha \\sum_{i=1}^N \\theta_{i}^{2}$ "
      ]
    },
    {
      "cell_type": "markdown",
      "metadata": {
        "id": "5sSdZ813ulPH"
      },
      "source": [
        "# 보통의 경우\n",
        "규제가 약간 있는 것이 대부분의 경우 좋으므로 릿지가 기본이 되지만, 실제로 쓰이는 특성이 몇 개 뿐이라고 의심되면 라쏘나 엘라스틱넷이 좋다. 이 모델들은 불필요한 특성의 가중치를 0으로 만들어준다.\n",
        "\n",
        "특성 수가 훈려 샘플 수보다 많거나 특성 몇 개가 강하게 연관되어 있을 때는 보통 라쏘보다는 엘라스틱넷을 선호한다."
      ]
    },
    {
      "cell_type": "code",
      "metadata": {
        "id": "IEAkI6lBtVlb"
      },
      "source": [
        "from sklearn.linear_model import ElasticNet"
      ],
      "execution_count": 48,
      "outputs": []
    },
    {
      "cell_type": "code",
      "metadata": {
        "colab": {
          "base_uri": "https://localhost:8080/"
        },
        "id": "m6N334UGvV63",
        "outputId": "4931412b-c0bd-419e-a781-38a0cfc5624b"
      },
      "source": [
        "elastic_net = ElasticNet(alpha=0.1, l1_ratio=0.5) # l1_ratio가 r이다.\n",
        "elastic_net.fit(X,y)"
      ],
      "execution_count": 49,
      "outputs": [
        {
          "output_type": "execute_result",
          "data": {
            "text/plain": [
              "ElasticNet(alpha=0.1, copy_X=True, fit_intercept=True, l1_ratio=0.5,\n",
              "           max_iter=1000, normalize=False, positive=False, precompute=False,\n",
              "           random_state=None, selection='cyclic', tol=0.0001, warm_start=False)"
            ]
          },
          "metadata": {
            "tags": []
          },
          "execution_count": 49
        }
      ]
    },
    {
      "cell_type": "code",
      "metadata": {
        "colab": {
          "base_uri": "https://localhost:8080/"
        },
        "id": "YG-3SiqXvgVQ",
        "outputId": "0f87e885-3778-43f1-9a0b-e67244a0d94f"
      },
      "source": [
        "elastic_net.predict([[1.5]])"
      ],
      "execution_count": 50,
      "outputs": [
        {
          "output_type": "execute_result",
          "data": {
            "text/plain": [
              "array([4.50441324])"
            ]
          },
          "metadata": {
            "tags": []
          },
          "execution_count": 50
        }
      ]
    },
    {
      "cell_type": "code",
      "metadata": {
        "id": "6DvxKUEWvjwe"
      },
      "source": [
        ""
      ],
      "execution_count": null,
      "outputs": []
    }
  ]
}