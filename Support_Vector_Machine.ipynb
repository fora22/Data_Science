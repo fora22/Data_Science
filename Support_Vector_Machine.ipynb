{
  "nbformat": 4,
  "nbformat_minor": 0,
  "metadata": {
    "colab": {
      "name": "Support Vector Machine.ipynb",
      "provenance": [],
      "collapsed_sections": [
        "QQ1CwZLCfILT",
        "p8lC2cDFhk1E",
        "LvTjcc3xlO-C",
        "TVztZmL0YSza",
        "cftmGHhSashD"
      ],
      "authorship_tag": "ABX9TyMx3FDY/NaZVCBJ+cjM5SRg",
      "include_colab_link": true
    },
    "kernelspec": {
      "name": "python3",
      "display_name": "Python 3"
    },
    "language_info": {
      "name": "python"
    }
  },
  "cells": [
    {
      "cell_type": "markdown",
      "metadata": {
        "id": "view-in-github",
        "colab_type": "text"
      },
      "source": [
        "<a href=\"https://colab.research.google.com/github/fora22/Data_Science/blob/main/Support_Vector_Machine.ipynb\" target=\"_parent\"><img src=\"https://colab.research.google.com/assets/colab-badge.svg\" alt=\"Open In Colab\"/></a>"
      ]
    },
    {
      "cell_type": "markdown",
      "metadata": {
        "id": "QQ1CwZLCfILT"
      },
      "source": [
        "# 서포트 벡터 머신(Support Vector Machine)\n",
        "서포트 벡터 머신은 선형이나 비선형 분류, 회귀, 이상치 탐색에도 사용할 수 있는 다목적 머신러닝 모델이다. 특히 복잡한 분류 문제에 잘 들어맞으며 작거나 중간 크기의 데이터셋에 적합하다.\n",
        "\n",
        "서포트 벡터 머신은 결정 경계(Decision Boundary), 즉 분류를 위한 기준 선을 정의하는 모델이다. 다른 머신러닝 분류 모델 또한 결정 경계를 통해 데이터를 분류하지만 서포트 벡터 머신의 특징으로는 '마진'이라는 개념이 있다.\n",
        "\n",
        "# 마진(Margin)\n",
        "![image](https://user-images.githubusercontent.com/48875566/127726733-c4d7af70-6ca1-4a02-b8be-4939f594af3b.png)\n",
        "* [그림 출처](http://hleecaster.com/ml-svm-concept/)\n",
        "\n",
        "그림에서 실선이 하나 그어져 있는데 이것이 '결정 경계'이다. 그리고 그 실선으로부터 검은 테두리가 있는 빨간점 1개, 파란점 2개까지 영역을 두고 점섬은 그려놓았는데, 결정 경계에서 점선까지의 거리가 바로 마진이다. 그리고 서포트 벡터 머신은 마진을 최대화시켜 최적의 결정 경계를 도출한다.\n",
        "\n",
        "그림에서 x축과 y축 2개 속성을 가진 데이터로 결정 경계를 그릴 때 3개의 서포트 벡터(선)가 필요했다. 즉, $n$개의 속성을 가진 데이터에는 최소 $n+1$개의 서포트 벡터가 존재한다.\n"
      ]
    },
    {
      "cell_type": "markdown",
      "metadata": {
        "id": "p8lC2cDFhk1E"
      },
      "source": [
        "# 소프트 마진 분류\n",
        "모든 샘플이 도로(선) 바깥쪽에 올바르게 분류되어 있다면 이를 **하드 마진 분류(hard margin classfication)**라고 한다. 이는 두 가지 문제점이 있는데\n",
        "\n",
        "1. 데이터가 선형적으로 구분될 수 있어야 제대로 작동하며\n",
        "2. 이상치에 민감하다.\n",
        "\n",
        "![image](https://user-images.githubusercontent.com/48875566/127726919-7e72cc34-88a0-4bfe-8adc-05ba057d42c6.png)\n",
        "* [그림 출처](https://analysis-flood.tistory.com/94)\n",
        "\n",
        "왼쪽 그림에서 처럼 이상치가 존재하면 하드 마진 분류는 불가능하다. 따라서 이런 문제를 피할려면 유연한 모델이 필요하다. \n",
        "\n",
        "도로(선)의 폭을 가능한 한 넓게 유지하는 것과 마진 오류(margin violation : 샘플이 도로 중간이나 심지어 반대쪽에 있는 경우) 사이에 적절한 균형을 잡아야 한다. 이를 소프트 마진 분류(soft margin classfication)이라고 한다.\n",
        "\n",
        "\n",
        "\n",
        "![image](https://user-images.githubusercontent.com/48875566/127727046-bac7d264-43af-49ca-88e5-14fccb6b4d40.png)\n",
        "* [그림 출처](https://analysis-flood.tistory.com/94)\n",
        "\n",
        "sklearn의 SVM 모델에서는 $C$ 하이퍼파라미터를 사용해 이 균형을 조절할 수 있다. $C$ 값을 줄이면 도로의 폭이 넓어지지만 마진 오류도 커진다. 반대로 $C$ 값을 크게 하면 마진 오류가 적지만 도로의 폭이 좁아진다.\n",
        "\n",
        "두 그림을 비교했을 떄 $C=1$일 경우가(마진이 넓을 때, 도로 폭이 넓을 때) 더 잘 일반화될 것이다. 사실 대부분의 마진 오류는 **결정 경계를 기준**으로 올바른 클래스로 분류되기 때문에 이 훈련 세트에서 예측 에러는 마진 오류보다 작다.\n",
        "\n"
      ]
    },
    {
      "cell_type": "code",
      "metadata": {
        "colab": {
          "base_uri": "https://localhost:8080/"
        },
        "id": "zMyyWsUle9d8",
        "outputId": "d1cea80a-a8f3-40f4-89ef-e3d1eb9136d7"
      },
      "source": [
        "# 그래프 한글 폰트 설정\n",
        "!apt-get update -qq\n",
        "!apt-get install fonts-nanum* -qq\n",
        "import matplotlib.font_manager as fm\n",
        "import matplotlib.pyplot as plt\n",
        "path = '/usr/share/fonts/truetype/nanum/NanumBarunGothic.ttf'\n",
        "font_name = fm.FontProperties(fname = path, size = 10).get_name()\n",
        "print(font_name)\n",
        "plt.rc('font', family=font_name)  \n",
        "fm._rebuild()"
      ],
      "execution_count": 1,
      "outputs": [
        {
          "output_type": "stream",
          "text": [
            "NanumBarunGothic\n"
          ],
          "name": "stdout"
        }
      ]
    },
    {
      "cell_type": "code",
      "metadata": {
        "id": "GOv69-Xaj-fX"
      },
      "source": [
        "import numpy as np\n",
        "from sklearn import datasets\n",
        "from sklearn.pipeline import Pipeline\n",
        "from sklearn.preprocessing import StandardScaler\n",
        "from sklearn.svm import LinearSVC"
      ],
      "execution_count": 2,
      "outputs": []
    },
    {
      "cell_type": "code",
      "metadata": {
        "id": "xbI9fmf-kNE4"
      },
      "source": [
        "iris = datasets.load_iris()"
      ],
      "execution_count": 3,
      "outputs": []
    },
    {
      "cell_type": "code",
      "metadata": {
        "id": "w36sCtRPkQB9"
      },
      "source": [
        "X = iris[\"data\"][:, (2, 3)] # 꽃잎 길이, 꽃잎 너비\n",
        "y = (iris['target'] == 2).astype(np.float64)  # Iris-Virginica"
      ],
      "execution_count": 4,
      "outputs": []
    },
    {
      "cell_type": "code",
      "metadata": {
        "id": "-BVX7nVnkddT"
      },
      "source": [
        "svm_clf = Pipeline([\n",
        "                    (\"scaler\", StandardScaler()),\n",
        "                    (\"linear_svc\", LinearSVC(C=1, loss='hinge'))\n",
        "                    ])"
      ],
      "execution_count": 5,
      "outputs": []
    },
    {
      "cell_type": "code",
      "metadata": {
        "colab": {
          "base_uri": "https://localhost:8080/"
        },
        "id": "5N3lvbK3kpHj",
        "outputId": "e7288f6c-f674-4980-84fe-9e3bf5b98067"
      },
      "source": [
        "svm_clf.fit(X,y)"
      ],
      "execution_count": 6,
      "outputs": [
        {
          "output_type": "execute_result",
          "data": {
            "text/plain": [
              "Pipeline(memory=None,\n",
              "         steps=[('scaler',\n",
              "                 StandardScaler(copy=True, with_mean=True, with_std=True)),\n",
              "                ('linear_svc',\n",
              "                 LinearSVC(C=1, class_weight=None, dual=True,\n",
              "                           fit_intercept=True, intercept_scaling=1,\n",
              "                           loss='hinge', max_iter=1000, multi_class='ovr',\n",
              "                           penalty='l2', random_state=None, tol=0.0001,\n",
              "                           verbose=0))],\n",
              "         verbose=False)"
            ]
          },
          "metadata": {
            "tags": []
          },
          "execution_count": 6
        }
      ]
    },
    {
      "cell_type": "code",
      "metadata": {
        "colab": {
          "base_uri": "https://localhost:8080/"
        },
        "id": "ai292gIYkqdc",
        "outputId": "75d95127-51c6-4d8a-f594-2335a505806e"
      },
      "source": [
        "svm_clf.predict([[5.5, 1.7]])"
      ],
      "execution_count": 7,
      "outputs": [
        {
          "output_type": "execute_result",
          "data": {
            "text/plain": [
              "array([1.])"
            ]
          },
          "metadata": {
            "tags": []
          },
          "execution_count": 7
        }
      ]
    },
    {
      "cell_type": "code",
      "metadata": {
        "id": "WU5yyxhvkuXu"
      },
      "source": [
        "# 만약 데이터 셋이 아주 커서 메모리에 적재할 수 없거나(외부 메모리 훈련), 온라인 학습으로 분류 문제를 다룰 때는 속도를 조금 포기하고 SGDClassfier()를 사용할 수 있다.\n",
        "# SGDClassfier(loss = 'hinge', alpha = 1/(m*C))"
      ],
      "execution_count": 8,
      "outputs": []
    },
    {
      "cell_type": "markdown",
      "metadata": {
        "id": "LvTjcc3xlO-C"
      },
      "source": [
        "# 비선형 SVM 분류\n",
        "선형적으로 분류할 수 없을 때는 여러 가지 방법이 있다.\n",
        "\n",
        "일단 첫 번째로 다항 특성을 다룰때처럼 사용하는 방법이다.\n",
        "* Polynomial Regression.ipynb 참고"
      ]
    },
    {
      "cell_type": "code",
      "metadata": {
        "id": "AGrFuyLklote"
      },
      "source": [
        "from sklearn.datasets import make_moons\n",
        "from sklearn.pipeline import Pipeline\n",
        "from sklearn.preprocessing import PolynomialFeatures"
      ],
      "execution_count": 9,
      "outputs": []
    },
    {
      "cell_type": "code",
      "metadata": {
        "id": "v6QCes4vlwHb"
      },
      "source": [
        "X, y = make_moons(n_samples=100, noise=0.15, random_state=42)"
      ],
      "execution_count": 21,
      "outputs": []
    },
    {
      "cell_type": "code",
      "metadata": {
        "id": "ktGhU-q2l2G-"
      },
      "source": [
        "polynomial_svm_clf = Pipeline([\n",
        "                               (\"poly_features\", PolynomialFeatures(degree=3)),\n",
        "                               (\"scaler\", StandardScaler()),\n",
        "                               (\"svm_clf\", LinearSVC(C=10, loss=\"hinge\"))\n",
        "                               ])"
      ],
      "execution_count": 11,
      "outputs": []
    },
    {
      "cell_type": "code",
      "metadata": {
        "colab": {
          "base_uri": "https://localhost:8080/"
        },
        "id": "8h2wMsmamMlE",
        "outputId": "52683678-810a-4b5b-f458-0b1ebe07c653"
      },
      "source": [
        "polynomial_svm_clf.fit(X,y)"
      ],
      "execution_count": 12,
      "outputs": [
        {
          "output_type": "stream",
          "text": [
            "/usr/local/lib/python3.7/dist-packages/sklearn/svm/_base.py:947: ConvergenceWarning: Liblinear failed to converge, increase the number of iterations.\n",
            "  \"the number of iterations.\", ConvergenceWarning)\n"
          ],
          "name": "stderr"
        },
        {
          "output_type": "execute_result",
          "data": {
            "text/plain": [
              "Pipeline(memory=None,\n",
              "         steps=[('poly_features',\n",
              "                 PolynomialFeatures(degree=3, include_bias=True,\n",
              "                                    interaction_only=False, order='C')),\n",
              "                ('scaler',\n",
              "                 StandardScaler(copy=True, with_mean=True, with_std=True)),\n",
              "                ('svm_clf',\n",
              "                 LinearSVC(C=10, class_weight=None, dual=True,\n",
              "                           fit_intercept=True, intercept_scaling=1,\n",
              "                           loss='hinge', max_iter=1000, multi_class='ovr',\n",
              "                           penalty='l2', random_state=None, tol=0.0001,\n",
              "                           verbose=0))],\n",
              "         verbose=False)"
            ]
          },
          "metadata": {
            "tags": []
          },
          "execution_count": 12
        }
      ]
    },
    {
      "cell_type": "code",
      "metadata": {
        "id": "c5RWSpqQmPzS",
        "colab": {
          "base_uri": "https://localhost:8080/",
          "height": 335
        },
        "outputId": "6439d86c-3fa8-4727-9d38-1f2fac11155b"
      },
      "source": [
        "plt.scatter(X[:,0], X[:,1])"
      ],
      "execution_count": 13,
      "outputs": [
        {
          "output_type": "execute_result",
          "data": {
            "text/plain": [
              "<matplotlib.collections.PathCollection at 0x7ff75cc93310>"
            ]
          },
          "metadata": {
            "tags": []
          },
          "execution_count": 13
        },
        {
          "output_type": "stream",
          "text": [
            "/usr/local/lib/python3.7/dist-packages/matplotlib/backends/backend_agg.py:214: RuntimeWarning: Glyph 8722 missing from current font.\n",
            "  font.set_text(s, 0.0, flags=flags)\n",
            "/usr/local/lib/python3.7/dist-packages/matplotlib/backends/backend_agg.py:183: RuntimeWarning: Glyph 8722 missing from current font.\n",
            "  font.set_text(s, 0, flags=flags)\n"
          ],
          "name": "stderr"
        },
        {
          "output_type": "display_data",
          "data": {
            "image/png": "[encoded data removed]",
            "text/plain": [
              "<Figure size 432x288 with 1 Axes>"
            ]
          },
          "metadata": {
            "tags": [],
            "needs_background": "light"
          }
        }
      ]
    },
    {
      "cell_type": "code",
      "metadata": {
        "colab": {
          "base_uri": "https://localhost:8080/",
          "height": 365
        },
        "id": "gwEIhAL9T6u_",
        "outputId": "482fc520-3406-47ad-b358-b86a6cae8241"
      },
      "source": [
        "# 출처: https://hoony-gunputer.tistory.com/entry/핸즈온-머신러닝-5강-SVM [후니의 컴퓨터]\n",
        "def plot_dataset(X, y, axes):\n",
        "    # dataset 그려주는 함수\n",
        "    plt.plot(X[:, 0][y==0], X[:, 1][y==0], \"bs\")\n",
        "    plt.plot(X[:, 0][y==1], X[:, 1][y==1], \"g^\")\n",
        "    plt.axis(axes)\n",
        "    plt.grid(True, which='both')\n",
        "    plt.xlabel(r\"$x_1$\", fontsize=20)\n",
        "    plt.ylabel(r\"$x_2$\", fontsize=20, rotation=0)\n",
        "\n",
        "def plot_predictions(clf, axes):\n",
        "    # 범위 및 grid 그려주는 함수\n",
        "    x0s = np.linspace(axes[0], axes[1], 100)#axes[0]부터 axes[1]까지 100개로 이루어진 숫자들 \n",
        "    x1s = np.linspace(axes[2], axes[3], 100)\n",
        "    x0, x1 = np.meshgrid(x0s, x1s) #표현할 수 있는 모든 배열조합 \n",
        "    X = np.c_[x0.ravel(), x1.ravel()]# ravel 1차원 배열로 핀다. \n",
        "    y_pred = clf.predict(X).reshape(x0.shape)\n",
        "    y_decision = clf.decision_function(X).reshape(x0.shape)\n",
        "    plt.contourf(x0, x1, y_pred, cmap=plt.cm.brg, alpha=0.2)\n",
        "    plt.contourf(x0, x1, y_decision, cmap=plt.cm.brg, alpha=0.1)\n",
        "\n",
        "plot_predictions(polynomial_svm_clf, [-1.5, 2.5, -1, 1.5])\n",
        "plot_dataset(X, y, [-1.5, 2.5, -1, 1.5])"
      ],
      "execution_count": 24,
      "outputs": [
        {
          "output_type": "stream",
          "text": [
            "/usr/local/lib/python3.7/dist-packages/matplotlib/backends/backend_agg.py:214: RuntimeWarning: Glyph 8722 missing from current font.\n",
            "  font.set_text(s, 0.0, flags=flags)\n",
            "/usr/local/lib/python3.7/dist-packages/matplotlib/backends/backend_agg.py:183: RuntimeWarning: Glyph 8722 missing from current font.\n",
            "  font.set_text(s, 0, flags=flags)\n"
          ],
          "name": "stderr"
        },
        {
          "output_type": "display_data",
          "data": {
            "image/png": "[encoded data removed]",
            "text/plain": [
              "<Figure size 432x288 with 1 Axes>"
            ]
          },
          "metadata": {
            "tags": [],
            "needs_background": "light"
          }
        }
      ]
    },
    {
      "cell_type": "markdown",
      "metadata": {
        "id": "TVztZmL0YSza"
      },
      "source": [
        "# 다항식 커널\n",
        "다항식 특성을 추가하는 것은 간단하고 모든 머신러닝 알고리즘에서 잘 작동한다. 하지만 낮은 차수의 다항식은 매우 복잡한 데이터셋을 잘 표현하지 못하고 높은 차수의 다항식은 굉장히 많은 특성을 추가하므로 모델을 느리게 만든다.\n",
        "\n",
        "다행히 커널 트릭(kernel trick)이라는 기법을 사용하면 실제로는 특성을 추가하지 않으면서 다항식 특성을 많이 추가한 것과 같은 결과를 얻을 수 있다."
      ]
    },
    {
      "cell_type": "code",
      "metadata": {
        "id": "v7ZLv_NEU0Tx"
      },
      "source": [
        "from sklearn.svm import SVC"
      ],
      "execution_count": 25,
      "outputs": []
    },
    {
      "cell_type": "code",
      "metadata": {
        "id": "3YOcRHVzVDMC"
      },
      "source": [
        "poly_kernel_svm_clf = Pipeline([\n",
        "                                ('scaler', StandardScaler()),\n",
        "                                ('svm_clf', SVC(kernel='poly', degree = 3, coef0=1, C=5))\n",
        "])\n",
        "poly_kernel_svm_clf.fit(X,y)"
      ],
      "execution_count": 26,
      "outputs": []
    },
    {
      "cell_type": "code",
      "metadata": {
        "colab": {
          "base_uri": "https://localhost:8080/"
        },
        "id": "Qmq4Z7g5Z1QT",
        "outputId": "8b71b2c1-c22f-4145-a72a-f48e767a5dd7"
      },
      "source": [
        "poly_kernel_svm100_clf = Pipeline([\n",
        "                                ('scaler', StandardScaler()),\n",
        "                                ('svm_clf', SVC(kernel='poly', degree = 10, coef0=100, C=5))\n",
        "                                # 10차 다항식 커널, coef0는 모델이 높은 차수와 낮은 차수에 얼마나 영향을 받을지 조절\n",
        "])\n",
        "poly_kernel_svm100_clf.fit(X,y)"
      ],
      "execution_count": 36,
      "outputs": [
        {
          "output_type": "execute_result",
          "data": {
            "text/plain": [
              "Pipeline(memory=None,\n",
              "         steps=[('scaler',\n",
              "                 StandardScaler(copy=True, with_mean=True, with_std=True)),\n",
              "                ('svm_clf',\n",
              "                 SVC(C=5, break_ties=False, cache_size=200, class_weight=None,\n",
              "                     coef0=100, decision_function_shape='ovr', degree=10,\n",
              "                     gamma='scale', kernel='poly', max_iter=-1,\n",
              "                     probability=False, random_state=None, shrinking=True,\n",
              "                     tol=0.001, verbose=False))],\n",
              "         verbose=False)"
            ]
          },
          "metadata": {
            "tags": []
          },
          "execution_count": 36
        }
      ]
    },
    {
      "cell_type": "code",
      "metadata": {
        "colab": {
          "base_uri": "https://localhost:8080/",
          "height": 383
        },
        "id": "_cEKb5flZeVh",
        "outputId": "d9ca3e30-e908-4b8b-ede3-8e5441f0ff20"
      },
      "source": [
        "# 모델이 과대적합이라면 다항식의 차수를 줄이고, 과소적합이라면 차수를 늘려야 한다.\n",
        "plt.figure(figsize=(11, 4))\n",
        "plt.subplot(121)\n",
        "plot_predictions(poly_kernel_svm_clf, [-1.5, 2.5, -1, 1.5])\n",
        "plot_dataset(X, y, [-1.5, 2.5, -1, 1.5])\n",
        "plt.title(r\"$d=3, r=1, C=5$\", fontsize=18)\n",
        "\n",
        "\n",
        "plt.subplot(122)\n",
        "plot_predictions(poly_kernel_svm100_clf, [-1.5, 2.5, -1, 1.5])\n",
        "plot_dataset(X, y, [-1.5, 2.5, -1, 1.5])\n",
        "plt.title(r\"$d=10, r=100, C=5$\", fontsize=18)\n",
        "plt.show()"
      ],
      "execution_count": 37,
      "outputs": [
        {
          "output_type": "stream",
          "text": [
            "/usr/local/lib/python3.7/dist-packages/matplotlib/backends/backend_agg.py:214: RuntimeWarning: Glyph 8722 missing from current font.\n",
            "  font.set_text(s, 0.0, flags=flags)\n",
            "/usr/local/lib/python3.7/dist-packages/matplotlib/backends/backend_agg.py:183: RuntimeWarning: Glyph 8722 missing from current font.\n",
            "  font.set_text(s, 0, flags=flags)\n"
          ],
          "name": "stderr"
        },
        {
          "output_type": "display_data",
          "data": {
            "image/png": "[encoded data removed]",
            "text/plain": [
              "<Figure size 792x288 with 2 Axes>"
            ]
          },
          "metadata": {
            "tags": [],
            "needs_background": "light"
          }
        }
      ]
    },
    {
      "cell_type": "markdown",
      "metadata": {
        "id": "cftmGHhSashD"
      },
      "source": [
        "# 유사도 특성 추가\n",
        "\n",
        "비선형 특성을 다루는 또 다른 기법은 각 샢ㅁ으리 특정 랜드마크(landmark)와 얼마나 닮았는지 측정하는 유사도 함수(similarity function)로 계산한 특성을 추가하는 것이다. \n",
        "\n",
        "1차원 데이터 셋에 두 개의 랜드마크 $x_1 = -2$와 $x_1=1$을 추가한다. 그리고 $\\gamma = 0.3$인 가우시안 방사 기저 함수(Radial Basis Function)를 유사도 함수로 정의한다.\n",
        "### 가우시안 RBF\n",
        "$\\phi_r(x,l) =  exp(-\\gamma||x-l||^2)$\n",
        "\n",
        "![image](https://user-images.githubusercontent.com/48875566/128585147-76d9e6e6-26fe-423d-95a8-d1cd1ac1b147.png)\n",
        "\n",
        "$x_1 = 01$ 샘플을 살펴보면, 이 샘플은 첫 번째 랜드마크에서 1만큼 떨어져 있고 두 번째 랜드마크에서 2만큼 떨어져 있다. 그러므로 새로 만든 특성은 $x_2 = exp(-0.3 \\times 1^2) \\approx 0.74$와 $x_3 = exp(-0.3 \\times 2^2) \\approx 0.30$이다. 오른쪽 그래프는 변환된 데이터셋을 보여준다. 그림에서 볼 수 있듯이 선형적으로 구분이 가능하다.\n",
        "\n",
        "랜드마크를 선택하는 방법에 있어서 간단한 방법은 데이터 셋에 있는 모든 샘플 위치에 랜드마크를 설정하는 것이다. 이렇게 하면 차원이 매우 커지고 따라서 변환된 훈련 세트가 선형적으로 구분될 가능성이 높다. 단점은 훈련 세트에 있는 n개의 특성을 가진 m개의 샘플이 m개의 특성을 가진 m개의 샘플로 변환된다는 것이다(원본 특성은 제외). 훈련 세트가 매우 클 경우 동일한 크기의 아주 많은 특성이 만들어진다."
      ]
    },
    {
      "cell_type": "markdown",
      "metadata": {
        "id": "2ljnyZt5d5Fl"
      },
      "source": [
        "# 가우시안 RBF 커널\n",
        "\n",
        "추가 특성을 모두 계산하려면 연산 비용이 많이 드는데, 커널 트릭으로 유사도 특성을 많이 추가하는 것과 같은 비슷한 결과를 실제로 특성을 추가하지 않고 얻을 수 있다."
      ]
    },
    {
      "cell_type": "code",
      "metadata": {
        "colab": {
          "base_uri": "https://localhost:8080/"
        },
        "id": "hZY_7yQTZn4f",
        "outputId": "740f736f-e1b5-4601-9a79-8e97c96984a2"
      },
      "source": [
        "rbf_kernel_svm_clf = Pipeline([\n",
        "                               (\"scaler\", StandardScaler()),\n",
        "                               (\"svm_clf\", SVC(kernel='rbf', gamma=5, C=0.001))\n",
        "])\n",
        "rbf_kernel_svm_clf.fit(X,y)"
      ],
      "execution_count": 38,
      "outputs": [
        {
          "output_type": "execute_result",
          "data": {
            "text/plain": [
              "Pipeline(memory=None,\n",
              "         steps=[('scaler',\n",
              "                 StandardScaler(copy=True, with_mean=True, with_std=True)),\n",
              "                ('svm_clf',\n",
              "                 SVC(C=0.001, break_ties=False, cache_size=200,\n",
              "                     class_weight=None, coef0=0.0,\n",
              "                     decision_function_shape='ovr', degree=3, gamma=5,\n",
              "                     kernel='rbf', max_iter=-1, probability=False,\n",
              "                     random_state=None, shrinking=True, tol=0.001,\n",
              "                     verbose=False))],\n",
              "         verbose=False)"
            ]
          },
          "metadata": {
            "tags": []
          },
          "execution_count": 38
        }
      ]
    },
    {
      "cell_type": "code",
      "metadata": {
        "colab": {
          "base_uri": "https://localhost:8080/",
          "height": 545
        },
        "id": "FPTasilsedzs",
        "outputId": "1596bb16-8ccb-4d11-8a05-2bc0fc3df338"
      },
      "source": [
        "# 출처: https://hoony-gunputer.tistory.com/entry/핸즈온-머신러닝-5강-SVM [후니의 컴퓨터]\n",
        "gamma1, gamma2 = 0.1, 5\n",
        "C1, C2 = 0.001, 1000\n",
        "hyperparams = (gamma1, C1), (gamma1, C2), (gamma2, C1), (gamma2, C2)\n",
        "\n",
        "svm_clfs = []\n",
        "for gamma, C in hyperparams:\n",
        "    rbf_kernel_svm_clf = Pipeline([\n",
        "            (\"scaler\", StandardScaler()),\n",
        "            (\"svm_clf\", SVC(kernel=\"rbf\", gamma=gamma, C=C))\n",
        "        ])\n",
        "    rbf_kernel_svm_clf.fit(X,  y)\n",
        "    svm_clfs.append(rbf_kernel_svm_clf)\n",
        "\n",
        "plt.figure(figsize=(11, 7))\n",
        "\n",
        "for i, svm_clf in enumerate(svm_clfs):\n",
        "    plt.subplot(221 + i)\n",
        "    plot_predictions(svm_clf, [-1.5, 2.5, -1, 1.5])\n",
        "    plot_dataset(X, y, [-1.5, 2.5, -1, 1.5])\n",
        "    gamma, C = hyperparams[i]\n",
        "    plt.title(r\"$\\gamma = {}, C = {}$\".format(gamma, C), fontsize=16)\n",
        "\n",
        "\n",
        "plt.show()"
      ],
      "execution_count": 40,
      "outputs": [
        {
          "output_type": "stream",
          "text": [
            "/usr/local/lib/python3.7/dist-packages/matplotlib/backends/backend_agg.py:214: RuntimeWarning: Glyph 8722 missing from current font.\n",
            "  font.set_text(s, 0.0, flags=flags)\n",
            "/usr/local/lib/python3.7/dist-packages/matplotlib/backends/backend_agg.py:183: RuntimeWarning: Glyph 8722 missing from current font.\n",
            "  font.set_text(s, 0, flags=flags)\n"
          ],
          "name": "stderr"
        },
        {
          "output_type": "display_data",
          "data": {
            "image/png": "[encoded data removed]",
            "text/plain": [
              "<Figure size 792x504 with 4 Axes>"
            ]
          },
          "metadata": {
            "tags": [],
            "needs_background": "light"
          }
        }
      ]
    },
    {
      "cell_type": "markdown",
      "metadata": {
        "id": "qSCwN3U6eiW5"
      },
      "source": [
        "$\\gamma$를 증가시키면 종 모양 그래프가 좁아지고(위에 유사도 특성 그래프 왼쪽) 각 샘플의 영향 범위가 작아진다. 결정 경계가 조금 더 불규칙해지고 각 샘플을 따라 구불구불하게 휘어진다. 반대로 작은 $\\gamma$ 값은 넓은 종 모양 그래프를 만들며 샘플이 넓은 범위에 걸쳐 영향을 주므로 결정 경계가 더 부드러워진다.\n",
        "\n",
        "따라서 모델이 과대적합일 경우 $\\gamma$를 감소 시켜야 하고 과소적합일 경우엔 증가시켜야 한다(C와 비슷)."
      ]
    },
    {
      "cell_type": "markdown",
      "metadata": {
        "id": "oQXn3Pjjfwfu"
      },
      "source": [
        "## 다른 커널\n",
        "다른 커널도 있지만 거의 사용되지 않는다. 예를 들어 어떤 커널은 특정 데이터 구조에 특화되어 있는데 문자열 커널(string kernel)이 가끔 텍스트 문서나 DNA 서열을 분류할 때 사용된다(예를 들면 문자열 서브시퀀스 커널(string subsequence kernel)이나 레벤슈타인 거리(Levenshtein distance)기반의 커널\n",
        "\n",
        "## 커널 사용\n",
        "일반적으로 데이터에게 선형 커널을 시도해 봐야한다. 'LinearSVC가 SVC(kernel='linear')보다 훨씬 빠름\n",
        "\n",
        "특히 훈련 세트가 아주 크거나 특성 수가 많을 경우에 더 그렇다. 훈련 세트가 너무 크지 않다면 가우시안 RBF 커널을 시도해 보는 것이 좋다. 대부분의 경우 이 커널이 잘 들어맞는다."
      ]
    },
    {
      "cell_type": "markdown",
      "metadata": {
        "id": "1ke0irrsg1Lp"
      },
      "source": [
        "# 계산 복잡도\n",
        "\n",
        "|파이썬 클래스|시간 복잡도|외부 메모리 학습 지원|스케일 조정 필요|커널 트릭|\n",
        "|------|:---:|:---:|:---:|:---:|\n",
        "|LinearSVC        |$O(m \\times n)$                    |No |Yes |No |\n",
        "|SGDClassifier    |$O(m \\times n)$                    |Yes|Yes |No |\n",
        "|SVC              |$O(m^2 \\times n)$ ~ $O(m^3 \\times n)$|No |Yes |Yes|"
      ]
    },
    {
      "cell_type": "markdown",
      "metadata": {
        "id": "BWn0E7ONiuTh"
      },
      "source": [
        "# SVM 회귀\n",
        "\n",
        "SVM은 선형, 비선형 분류 뿐만 아니라 선형, 비선형 회귀에도 사용 가능하다. 회귀에 적용하는 방법은 목표를 반대로 하는 것이다. 일정한 마진 오류 안에서 두 클래스 간의 도로 폭이 가능한 최대가 되도록 하는 대신, 도로 밖의 샘플들이 도로 안에 가능한 한 많은 샘플이 들어가도록 학습하는 것이다.\n",
        "\n",
        "도로 폭은 $\\epsilon$으로 조절한다.\n",
        "\n",
        "![image](https://user-images.githubusercontent.com/48875566/128585840-6c84e3cd-2ae6-485c-8037-30abb24e14f3.png)\n",
        "\n",
        "[그림출처](https://hoony-gunputer.tistory.com/entry/%ED%95%B8%EC%A6%88%EC%98%A8-%EB%A8%B8%EC%8B%A0%EB%9F%AC%EB%8B%9D-5%EA%B0%95-SVM)"
      ]
    },
    {
      "cell_type": "code",
      "metadata": {
        "colab": {
          "base_uri": "https://localhost:8080/"
        },
        "id": "5bF-BcMBfTbO",
        "outputId": "604ca5dd-af2d-42c2-a357-c46db6637ebc"
      },
      "source": [
        "from sklearn.svm import LinearSVR\n",
        "\n",
        "svm_reg = LinearSVR(epsilon=1.5)\n",
        "svm_reg.fit(X,y)"
      ],
      "execution_count": 41,
      "outputs": [
        {
          "output_type": "execute_result",
          "data": {
            "text/plain": [
              "LinearSVR(C=1.0, dual=True, epsilon=1.5, fit_intercept=True,\n",
              "          intercept_scaling=1.0, loss='epsilon_insensitive', max_iter=1000,\n",
              "          random_state=None, tol=0.0001, verbose=0)"
            ]
          },
          "metadata": {
            "tags": []
          },
          "execution_count": 41
        }
      ]
    },
    {
      "cell_type": "code",
      "metadata": {
        "colab": {
          "base_uri": "https://localhost:8080/"
        },
        "id": "2XvUe-yhjnV_",
        "outputId": "b19d1068-d764-4ce6-dc1a-8952f1f1e749"
      },
      "source": [
        "from sklearn.svm import SVR\n",
        "svm_poly_reg = SVR(kernel = 'poly', degree = 2, C=100, epsilon=0.1)\n",
        "svm_poly_reg.fit(X,y)"
      ],
      "execution_count": 42,
      "outputs": [
        {
          "output_type": "execute_result",
          "data": {
            "text/plain": [
              "SVR(C=100, cache_size=200, coef0=0.0, degree=2, epsilon=0.1, gamma='scale',\n",
              "    kernel='poly', max_iter=-1, shrinking=True, tol=0.001, verbose=False)"
            ]
          },
          "metadata": {
            "tags": []
          },
          "execution_count": 42
        }
      ]
    },
    {
      "cell_type": "markdown",
      "metadata": {
        "id": "GShzx-UQkKCx"
      },
      "source": [
        "SVR은 SVC의 회귀 버전이고 LinearSVR은 LinearSVC의 회귀버전이다.\n",
        "\n",
        "LinearSVR은 (LinearSVC처럼) 필요한 시간이 훈련 세트의 크기에 비례해서 선형적으로 늘어난다. 하지만 SVR은(SVC 처럼) 훈련 세트가 커지면 훨씬 느려진다."
      ]
    },
    {
      "cell_type": "code",
      "metadata": {
        "id": "yUHwAL8ZkJc7"
      },
      "source": [
        ""
      ],
      "execution_count": null,
      "outputs": []
    }
  ]
}