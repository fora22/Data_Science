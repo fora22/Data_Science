{
  "nbformat": 4,
  "nbformat_minor": 0,
  "metadata": {
    "colab": {
      "name": "Support Vector Machine.ipynb",
      "provenance": [],
      "collapsed_sections": [],
      "authorship_tag": "ABX9TyMexxJSgrnf1Say07zk9qPi",
      "include_colab_link": true
    },
    "kernelspec": {
      "name": "python3",
      "display_name": "Python 3"
    },
    "language_info": {
      "name": "python"
    }
  },
  "cells": [
    {
      "cell_type": "markdown",
      "metadata": {
        "id": "view-in-github",
        "colab_type": "text"
      },
      "source": [
        "<a href=\"https://colab.research.google.com/github/fora22/Data_Science/blob/main/Support_Vector_Machine.ipynb\" target=\"_parent\"><img src=\"https://colab.research.google.com/assets/colab-badge.svg\" alt=\"Open In Colab\"/></a>"
      ]
    },
    {
      "cell_type": "markdown",
      "metadata": {
        "id": "QQ1CwZLCfILT"
      },
      "source": [
        "# 서포트 벡터 머신(Support Vector Machine)\n",
        "서포트 벡터 머신은 선형이나 비선형 분류, 회귀, 이상치 탐색에도 사용할 수 있는 다목적 머신러닝 모델이다. 특히 복잡한 분류 문제에 잘 들어맞으며 작거나 중간 크기의 데이터셋에 적합하다.\n",
        "\n",
        "서포트 벡터 머신은 결정 경계(Decision Boundary), 즉 분류를 위한 기준 선을 정의하는 모델이다. 다른 머신러닝 분류 모델 또한 결정 경계를 통해 데이터를 분류하지만 서포트 벡터 머신의 특징으로는 '마진'이라는 개념이 있다.\n",
        "\n",
        "# 마진(Margin)\n",
        "![image](https://user-images.githubusercontent.com/48875566/127726733-c4d7af70-6ca1-4a02-b8be-4939f594af3b.png)\n",
        "* [그림 출처](http://hleecaster.com/ml-svm-concept/)\n",
        "\n",
        "그림에서 실선이 하나 그어져 있는데 이것이 '결정 경계'이다. 그리고 그 실선으로부터 검은 테두리가 있는 빨간점 1개, 파란점 2개까지 영역을 두고 점섬은 그려놓았는데, 결정 경계에서 점선까지의 거리가 바로 마진이다. 그리고 서포트 벡터 머신은 마진을 최대화시켜 최적의 결정 경계를 도출한다.\n",
        "\n",
        "그림에서 x축과 y축 2개 속성을 가진 데이터로 결정 경계를 그릴 때 3개의 서포트 벡터(선)가 필요했다. 즉, $n$개의 속성을 가진 데이터에는 최소 $n+1$개의 서포트 벡터가 존재한다.\n"
      ]
    },
    {
      "cell_type": "markdown",
      "metadata": {
        "id": "p8lC2cDFhk1E"
      },
      "source": [
        "# 소프트 마진 분류\n",
        "모든 샘플이 도로(선) 바깥쪽에 올바르게 분류되어 있다면 이를 **하드 마진 분류(hard margin classfication)**라고 한다. 이는 두 가지 문제점이 있는데\n",
        "\n",
        "1. 데이터가 선형적으로 구분될 수 있어야 제대로 작동하며\n",
        "2. 이상치에 민감하다.\n",
        "\n",
        "![image](https://user-images.githubusercontent.com/48875566/127726919-7e72cc34-88a0-4bfe-8adc-05ba057d42c6.png)\n",
        "* [사진 출처](https://analysis-flood.tistory.com/94)\n",
        "\n",
        "왼쪽 그림에서 처럼 이상치가 존재하면 하드 마진 분류는 불가능하다. 따라서 이런 문제를 피할려면 유연한 모델이 필요하다. \n",
        "\n",
        "도로(선)의 폭을 가능한 한 넓게 유지하는 것과 마진 오류(margin violation : 샘플이 도로 중간이나 심지어 반대쪽에 있는 경우) 사이에 적절한 균형을 잡아야 한다. 이를 소프트 마진 분류(soft margin classfication)이라고 한다.\n",
        "\n",
        "\n",
        "\n",
        "![image](https://user-images.githubusercontent.com/48875566/127727046-bac7d264-43af-49ca-88e5-14fccb6b4d40.png)\n",
        "* [그림 출처](https://analysis-flood.tistory.com/94)\n",
        "\n",
        "sklearn의 SVM 모델에서는 $C$ 하이퍼파라미터를 사용해 이 균형을 조절할 수 있다. $C$ 값을 줄이면 도로의 폭이 넓어지지만 마진 오류도 커진다. 반대로 $C$ 값을 크게 하면 마진 오류가 적지만 도로의 폭이 좁아진다.\n",
        "\n",
        "두 그림을 비교했을 떄 $C=1$일 경우가(마진이 넓을 때, 도로 폭이 넓을 때) 더 잘 일반화될 것이다. 사실 대부분의 마진 오류는 **결정 경계를 기준**으로 올바른 클래스로 분류되기 때문에 이 훈련 세트에서 예측 에러는 마진 오류보다 작다.\n",
        "\n"
      ]
    },
    {
      "cell_type": "code",
      "metadata": {
        "colab": {
          "base_uri": "https://localhost:8080/"
        },
        "id": "zMyyWsUle9d8",
        "outputId": "0346bc83-077d-41d0-cc6a-33b2335d0064"
      },
      "source": [
        "# 그래프 한글 폰트 설정\n",
        "!apt-get update -qq\n",
        "!apt-get install fonts-nanum* -qq\n",
        "import matplotlib.font_manager as fm\n",
        "import matplotlib.pyplot as plt\n",
        "path = '/usr/share/fonts/truetype/nanum/NanumBarunGothic.ttf'\n",
        "font_name = fm.FontProperties(fname = path, size = 10).get_name()\n",
        "print(font_name)\n",
        "plt.rc('font', family=font_name)  \n",
        "fm._rebuild()"
      ],
      "execution_count": 1,
      "outputs": [
        {
          "output_type": "stream",
          "text": [
            "Selecting previously unselected package fonts-nanum.\n",
            "(Reading database ... 160837 files and directories currently installed.)\n",
            "Preparing to unpack .../fonts-nanum_20170925-1_all.deb ...\n",
            "Unpacking fonts-nanum (20170925-1) ...\n",
            "Selecting previously unselected package fonts-nanum-eco.\n",
            "Preparing to unpack .../fonts-nanum-eco_1.000-6_all.deb ...\n",
            "Unpacking fonts-nanum-eco (1.000-6) ...\n",
            "Selecting previously unselected package fonts-nanum-extra.\n",
            "Preparing to unpack .../fonts-nanum-extra_20170925-1_all.deb ...\n",
            "Unpacking fonts-nanum-extra (20170925-1) ...\n",
            "Selecting previously unselected package fonts-nanum-coding.\n",
            "Preparing to unpack .../fonts-nanum-coding_2.5-1_all.deb ...\n",
            "Unpacking fonts-nanum-coding (2.5-1) ...\n",
            "Setting up fonts-nanum-extra (20170925-1) ...\n",
            "Setting up fonts-nanum (20170925-1) ...\n",
            "Setting up fonts-nanum-coding (2.5-1) ...\n",
            "Setting up fonts-nanum-eco (1.000-6) ...\n",
            "Processing triggers for fontconfig (2.12.6-0ubuntu2) ...\n",
            "NanumBarunGothic\n"
          ],
          "name": "stdout"
        }
      ]
    },
    {
      "cell_type": "code",
      "metadata": {
        "id": "GOv69-Xaj-fX"
      },
      "source": [
        "import numpy as np\n",
        "from sklearn import datasets\n",
        "from sklearn.pipeline import Pipeline\n",
        "from sklearn.preprocessing import StandardScaler\n",
        "from sklearn.svm import LinearSVC"
      ],
      "execution_count": 2,
      "outputs": []
    },
    {
      "cell_type": "code",
      "metadata": {
        "id": "xbI9fmf-kNE4"
      },
      "source": [
        "iris = datasets.load_iris()"
      ],
      "execution_count": 3,
      "outputs": []
    },
    {
      "cell_type": "code",
      "metadata": {
        "id": "w36sCtRPkQB9"
      },
      "source": [
        "X = iris[\"data\"][:, (2, 3)] # 꽃잎 길이, 꽃잎 너비\n",
        "y = (iris['target'] == 2).astype(np.float64)  # Iris-Virginica"
      ],
      "execution_count": 4,
      "outputs": []
    },
    {
      "cell_type": "code",
      "metadata": {
        "id": "-BVX7nVnkddT"
      },
      "source": [
        "svm_clf = Pipeline([\n",
        "                    (\"scaler\", StandardScaler()),\n",
        "                    (\"linear_svc\", LinearSVC(C=1, loss='hinge'))\n",
        "                    ])"
      ],
      "execution_count": 5,
      "outputs": []
    },
    {
      "cell_type": "code",
      "metadata": {
        "colab": {
          "base_uri": "https://localhost:8080/"
        },
        "id": "5N3lvbK3kpHj",
        "outputId": "1cd3a5e7-3c4d-445d-8e5b-ebd2cd7c6144"
      },
      "source": [
        "svm_clf.fit(X,y)"
      ],
      "execution_count": 6,
      "outputs": [
        {
          "output_type": "execute_result",
          "data": {
            "text/plain": [
              "Pipeline(memory=None,\n",
              "         steps=[('scaler',\n",
              "                 StandardScaler(copy=True, with_mean=True, with_std=True)),\n",
              "                ('linear_svc',\n",
              "                 LinearSVC(C=1, class_weight=None, dual=True,\n",
              "                           fit_intercept=True, intercept_scaling=1,\n",
              "                           loss='hinge', max_iter=1000, multi_class='ovr',\n",
              "                           penalty='l2', random_state=None, tol=0.0001,\n",
              "                           verbose=0))],\n",
              "         verbose=False)"
            ]
          },
          "metadata": {
            "tags": []
          },
          "execution_count": 6
        }
      ]
    },
    {
      "cell_type": "code",
      "metadata": {
        "colab": {
          "base_uri": "https://localhost:8080/"
        },
        "id": "ai292gIYkqdc",
        "outputId": "9d516f6d-1ed2-4b66-fee7-1a5140073189"
      },
      "source": [
        "svm_clf.predict([[5.5, 1.7]])"
      ],
      "execution_count": 7,
      "outputs": [
        {
          "output_type": "execute_result",
          "data": {
            "text/plain": [
              "array([1.])"
            ]
          },
          "metadata": {
            "tags": []
          },
          "execution_count": 7
        }
      ]
    },
    {
      "cell_type": "code",
      "metadata": {
        "id": "WU5yyxhvkuXu"
      },
      "source": [
        "# 만약 데이터 셋이 아주 커서 메모리에 적재할 수 없거나(외부 메모리 훈련), 온라인 학습으로 분류 문제를 다룰 때는 속도를 조금 포기하고 SGDClassfier()를 사용할 수 있다.\n",
        "# SGDClassfier(loss = 'hinge', alpha = 1/(m*C))"
      ],
      "execution_count": 8,
      "outputs": []
    },
    {
      "cell_type": "markdown",
      "metadata": {
        "id": "LvTjcc3xlO-C"
      },
      "source": [
        "# 비선형 SVM 분류\n",
        "선형적으로 분류할 수 없을 때는 여러 가지 방법이 있다.\n",
        "\n",
        "일단 첫 번째로 다항 특성을 다룰때처럼 사용하는 방법이다.\n",
        "* Polynomial Regression.ipynb 참고"
      ]
    },
    {
      "cell_type": "code",
      "metadata": {
        "id": "AGrFuyLklote"
      },
      "source": [
        "from sklearn.datasets import make_moons\n",
        "from sklearn.pipeline import Pipeline\n",
        "from sklearn.preprocessing import PolynomialFeatures"
      ],
      "execution_count": 9,
      "outputs": []
    },
    {
      "cell_type": "code",
      "metadata": {
        "id": "v6QCes4vlwHb"
      },
      "source": [
        "X, y = make_moons(n_samples=100, noise=0.15, random_state=42)"
      ],
      "execution_count": 10,
      "outputs": []
    },
    {
      "cell_type": "code",
      "metadata": {
        "id": "ktGhU-q2l2G-"
      },
      "source": [
        "polynomial_svm_clf = Pipeline([\n",
        "                               (\"poly_features\", PolynomialFeatures(degree=3)),\n",
        "                               (\"scaler\", StandardScaler()),\n",
        "                               (\"svm_clf\", LinearSVC(C=10, loss=\"hinge\"))\n",
        "                               ])"
      ],
      "execution_count": 12,
      "outputs": []
    },
    {
      "cell_type": "code",
      "metadata": {
        "colab": {
          "base_uri": "https://localhost:8080/"
        },
        "id": "8h2wMsmamMlE",
        "outputId": "922fe03c-560e-43e0-c09d-e6fd80cb2cc1"
      },
      "source": [
        "polynomial_svm_clf.fit(X,y)"
      ],
      "execution_count": 13,
      "outputs": [
        {
          "output_type": "stream",
          "text": [
            "/usr/local/lib/python3.7/dist-packages/sklearn/svm/_base.py:947: ConvergenceWarning: Liblinear failed to converge, increase the number of iterations.\n",
            "  \"the number of iterations.\", ConvergenceWarning)\n"
          ],
          "name": "stderr"
        },
        {
          "output_type": "execute_result",
          "data": {
            "text/plain": [
              "Pipeline(memory=None,\n",
              "         steps=[('poly_features',\n",
              "                 PolynomialFeatures(degree=3, include_bias=True,\n",
              "                                    interaction_only=False, order='C')),\n",
              "                ('scaler',\n",
              "                 StandardScaler(copy=True, with_mean=True, with_std=True)),\n",
              "                ('svm_clf',\n",
              "                 LinearSVC(C=10, class_weight=None, dual=True,\n",
              "                           fit_intercept=True, intercept_scaling=1,\n",
              "                           loss='hinge', max_iter=1000, multi_class='ovr',\n",
              "                           penalty='l2', random_state=None, tol=0.0001,\n",
              "                           verbose=0))],\n",
              "         verbose=False)"
            ]
          },
          "metadata": {
            "tags": []
          },
          "execution_count": 13
        }
      ]
    },
    {
      "cell_type": "code",
      "metadata": {
        "id": "c5RWSpqQmPzS"
      },
      "source": [
        ""
      ],
      "execution_count": null,
      "outputs": []
    }
  ]
}